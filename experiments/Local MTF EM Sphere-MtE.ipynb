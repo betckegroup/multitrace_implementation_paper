{
 "cells": [
  {
   "cell_type": "code",
   "execution_count": 6,
   "metadata": {},
   "outputs": [],
   "source": [
    "# MtE for the EFIE for the sphere \n"
   ]
  },
  {
   "cell_type": "code",
   "execution_count": 1,
   "metadata": {},
   "outputs": [
    {
     "name": "stdout",
     "output_type": "stream",
     "text": [
      "0.041887902047863905 : h\n"
     ]
    },
    {
     "name": "stderr",
     "output_type": "stream",
     "text": [
      "bempp:HOST:INFO: Created grid with id 142c7dac-3dac-44f7-91ef-152d7f3a2c63. Elements: 17620. Edges: 26430. Vertices: 8812\n",
      "bempp:HOST:INFO: OpenCL CPU Device set to: pthread-AMD EPYC 7302 16-Core Processor\n"
     ]
    },
    {
     "name": "stdout",
     "output_type": "stream",
     "text": [
      "assembling efie_wf\n",
      "20.49252486228943 ta efie_wf\n",
      "assembling efie_M\n",
      "6.079673767089844e-05 ta efie_M\n",
      "assembling mte_wf\n",
      "23.724127769470215 ta mte_wf\n"
     ]
    }
   ],
   "source": [
    "import bempp.api \n",
    "import time\n",
    "import numpy as np\n",
    "from bempp.api.operators.boundary.sparse import identity\n",
    "from bempp.api.assembly.blocked_operator import BlockedOperator, GeneralizedBlockedOperator\n",
    "\n",
    "bempp.api.enable_console_logging()\n",
    "k = 15\n",
    "precision = 10\n",
    "\n",
    "h = 2 * np.pi/(precision*k)\n",
    "print(h, ': h')\n",
    "\n",
    "grid = bempp.api.shapes.sphere(h=h)\n",
    "rwg = bempp.api.function_space(grid, 'RWG', 0)\n",
    "rwg = bempp.api.function_space(grid, 'RWG', 0)\n",
    "snc = bempp.api.function_space(grid, 'SNC', 0)\n",
    "p1d = bempp.api.function_space(grid, 'DP', 1)\n",
    "\n",
    "def incident_field(x):\n",
    "    return np.array([np.exp(1j * k * x[2]), 0. * x[2], 0. * x[2]])\n",
    "\n",
    "@bempp.api.complex_callable\n",
    "def tangential_trace(x, n, domain_index, result):\n",
    "    incident_field = np.array([np.exp(1j * k * x[2]), 0. * x[2], 0. * x[2]])\n",
    "    result[:] = np.cross(incident_field, n)\n",
    "\n",
    "trace_fun = bempp.api.GridFunction(rwg, fun=tangential_trace, dual_space=snc)\n",
    "trace_fun_proj = trace_fun.projections()\n",
    "\n",
    "print('assembling efie_wf')\n",
    "ta = time.time()\n",
    "efie = bempp.api.operators.boundary.maxwell.electric_field(rwg,rwg,snc,k)\n",
    "efie_wf = efie.weak_form()\n",
    "print(time.time()- ta, 'ta efie_wf')\n",
    "\n",
    "print('assembling efie_M')\n",
    "ta = time.time()\n",
    "efie_M = bempp.api.as_matrix(efie_wf)\n",
    "print(time.time()- ta, 'ta efie_M')\n",
    "\n",
    "print('assembling mte_wf')\n",
    "ta = time.time()\n",
    "mte = bempp.api.operators.boundary.maxwell.osrc_mte( [snc,p1d],  [snc, p1d],  [snc, p1d], k)\n",
    "mte_wf = mte._assemble()\n",
    "print(time.time()- ta, 'ta mte_wf')\n",
    "\n"
   ]
  },
  {
   "cell_type": "code",
   "execution_count": 2,
   "metadata": {},
   "outputs": [],
   "source": [
    "class gmres_counter(object):\n",
    "    def __init__(self, disp=True):\n",
    "        self._disp = disp\n",
    "        self.niter = 0\n",
    "        self.residual = []\n",
    "    def __call__(self, rk=None):\n",
    "        self.niter += 1\n",
    "        self.residual.append(rk)\n",
    "        if self._disp:\n",
    "            print('iter %3i\\trk = %s' % (self.niter, str(rk)))\n"
   ]
  },
  {
   "cell_type": "code",
   "execution_count": null,
   "metadata": {},
   "outputs": [
    {
     "name": "stdout",
     "output_type": "stream",
     "text": [
      "direct solver\n"
     ]
    }
   ],
   "source": [
    "from scipy.sparse.linalg import gmres as sc_gmres\n",
    "maxiter = 1000\n",
    "counter_gmres = gmres_counter()\n",
    "counter_prec = gmres_counter()\n",
    "\n",
    "\n",
    "print('direct solver')\n",
    "ts = time.time()\n",
    "lambda_data_lu = np.linalg.solve(efie_M, trace_fun_proj)\n",
    "ts_M = time.time()-ts\n",
    "print(ts_M, 'ts efie_M')\n",
    "\n",
    "print('unpreconditioned gmres')\n",
    "ts = time.time()\n",
    "lambda_data_gmres, conv_gmres = sc_gmres(efie_wf, trace_fun.projections(), maxiter=maxiter, callback=counter_gmres, restart=maxiter)\n",
    "ts_gmres = time.time()-ts\n",
    "print(ts_gmres, 'ts efie_wf')\n",
    "\n",
    "print('MtE preconditioned gmres')\n",
    "ts = time.time()\n",
    "lambda_data_prec, conv_gmres = sc_gmres(mte_wf * efie_wf, mte_wf * trace_fun.projections(), maxiter=maxiter, callback=counter_prec, restart=maxiter)\n",
    "ts_prec = time.time() - ts\n",
    "print(ts_prec, 'ts efie_prec')"
   ]
  },
  {
   "cell_type": "code",
   "execution_count": null,
   "metadata": {},
   "outputs": [],
   "source": [
    "print(ts_M, 'ts efie_M')\n",
    "print(ts_gmres, 'ts efie_wf')\n",
    "print(ts_prec, 'ts efie_prec')"
   ]
  },
  {
   "cell_type": "code",
   "execution_count": null,
   "metadata": {},
   "outputs": [],
   "source": [
    "from matplotlib import pyplot as plt\n",
    "plt.plot(np.abs(lambda_data_lu), label='lu')\n",
    "plt.plot(np.abs(lambda_data_gmres), label='gmres')\n",
    "plt.plot(np.abs(lambda_data_prec), label='prec')\n",
    "plt.legend()"
   ]
  },
  {
   "cell_type": "code",
   "execution_count": null,
   "metadata": {},
   "outputs": [],
   "source": []
  }
 ],
 "metadata": {
  "kernelspec": {
   "display_name": "Python 3 (ipykernel)",
   "language": "python",
   "name": "python3"
  },
  "language_info": {
   "codemirror_mode": {
    "name": "ipython",
    "version": 3
   },
   "file_extension": ".py",
   "mimetype": "text/x-python",
   "name": "python",
   "nbconvert_exporter": "python",
   "pygments_lexer": "ipython3",
   "version": "3.9.7"
  }
 },
 "nbformat": 4,
 "nbformat_minor": 4
}
