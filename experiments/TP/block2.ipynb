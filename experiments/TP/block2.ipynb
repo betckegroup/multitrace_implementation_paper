{
 "cells": [
  {
   "cell_type": "code",
   "execution_count": 1,
   "id": "b3afa1d4-1f43-448c-a75c-425803b1f2af",
   "metadata": {},
   "outputs": [
    {
     "name": "stdout",
     "output_type": "stream",
     "text": [
      "The exterior wavenumber is: 1\n",
      "The interior wavenumber is: 1\n",
      "----\n",
      "The exterior wavelenght is: 1.2566370614359172\n",
      "The exterior frequency is: 2.39E+8\n",
      "\n"
     ]
    },
    {
     "name": "stderr",
     "output_type": "stream",
     "text": [
      "bempp:HOST:INFO: Created grid with id 9ddce212-9839-498c-a873-6bb4057e3cd7. Elements: 56. Edges: 80. Vertices: 27\n"
     ]
    }
   ],
   "source": [
    "#Je reviens à quelque chose de beaucoup plus simple. On va prouver que l'on obtient le bon FF pour STF classique. \n",
    "#Travaillons en mode dense, facile.\n",
    "# This first version is for the classical STF. \n",
    "# Now, try to get to the domain-based STF...\n",
    "# Il semble que ça a marché! Donc si je comprends bien, maintenant, il serait interessant de trouver le MTF avec osrc en block preconditioning.\n",
    "# Essayer de répliquer le problème de OSRC. \n",
    "# MTF validated here. Now trying to get the stf working.\n",
    "\n",
    "import bempp.api \n",
    "import numpy as np\n",
    "import mtf\n",
    "\n",
    "from bempp.api.operators.boundary.sparse import identity\n",
    "from bempp.api.assembly.blocked_operator import BlockedOperator, GeneralizedBlockedOperator\n",
    "\n",
    "from mtf.utils import bhmie\n",
    "from mtf.config import config\n",
    "from mtf.functions import define_bempp_functions\n",
    "from matplotlib import pyplot as plt\n",
    "from decimal import Decimal\n",
    "\n",
    "bempp.api.enable_console_logging()\n",
    "M = 2\n",
    "\n",
    "mtf.config.set_case(\"B\")\n",
    "\n",
    "tangential_trace, neumann_trace = define_bempp_functions(config)\n",
    "\n",
    "k0, k1 = config[\"k_ext\"], config[\"k_int\"]\n",
    "k0, k1 = 1, 1\n",
    "lambda_par, freq = config[\"lambda\"], config[\"frequency\"]\n",
    "\n",
    "polarization = config[\"polarization\"]\n",
    "direction = config[\"direction\"]\n",
    "\n",
    "eps_rel = config[\"eps_rel\"]\n",
    "mu_rel = config[\"mu_rel\"]\n",
    "mu0 = config[\"mu_ext\"]\n",
    "mu1 = mu_rel * mu0\n",
    "\n",
    "eta_rel = np.sqrt(mu_rel / eps_rel)\n",
    "\n",
    "print(\"The exterior wavenumber is: {0}\".format(k0))\n",
    "print(\"The interior wavenumber is: {0}\".format(k1))\n",
    "\n",
    "print(\"----\")\n",
    "print(\"The exterior wavelenght is: {0}\".format(lambda_par))\n",
    "print(\"The exterior frequency is: {:.2E}\".format(Decimal(freq)))\n",
    "\n",
    "# To do: Go to the multi-domain STF...\n",
    "\n",
    "segments = [[10], [20]]\n",
    "swapped_normals = [[], []]\n",
    "\n",
    "k_int, k_ext = config[\"k_int\"], config[\"k_ext\"]\n",
    "\n",
    "n = k_int / k_ext\n",
    "refIndex = n\n",
    "numAngles = 901\n",
    "s1, s2, qext, qsca, qback, gsca = bhmie(k_ext, k_int / k_ext, numAngles)\n",
    "angles = config['angles']\n",
    "\n",
    "k_list = [k0]\n",
    "eta_rel_list = [1]\n",
    "mu_list = [mu0]\n",
    "\n",
    "for index in range(M-1):\n",
    "  k_list.append(k1)\n",
    "  mu_list.append(mu1)\n",
    "  eta_rel_list.append(eta_rel)\n",
    "\n",
    "precision = 5\n",
    "\n",
    "h = 2 * np.pi/(precision*k0)\n",
    "grid = bempp.api.shapes.multitrace_sphere(h=h)\n",
    "\n"
   ]
  },
  {
   "cell_type": "code",
   "execution_count": 2,
   "id": "86b53d0b-11f4-4eab-adff-f54bb7e2765e",
   "metadata": {},
   "outputs": [
    {
     "name": "stderr",
     "output_type": "stream",
     "text": [
      "bempp:HOST:WARNING: Setting include_boundary_dofs has no effect on this space type.\n",
      "bempp:HOST:WARNING: Setting include_boundary_dofs has no effect on this space type.\n"
     ]
    },
    {
     "name": "stdout",
     "output_type": "stream",
     "text": [
      "1.2566370614359172 : h\n",
      "5 : precision\n",
      "160 : N\n"
     ]
    }
   ],
   "source": [
    "print(h, ': h')\n",
    "print(precision, ': precision')\n",
    "print(grid.number_of_edges * 2, ': N')\n",
    "\n",
    "\n",
    "dA = [bempp.api.function_space(grid, \"RWG\", 0, segments=seg, swapped_normals=normals,\n",
    "                                      include_boundary_dofs=True)\n",
    "              for seg, normals in zip(segments, swapped_normals)]\n",
    "\n",
    "p1dA = [bempp.api.function_space(grid, \"DP\", 1, segments=seg, swapped_normals=normals,\n",
    "                                      include_boundary_dofs=True)\n",
    "              for seg, normals in zip(segments, swapped_normals)]\n",
    "\n",
    "rA = [bempp.api.function_space(grid, \"RWG\", 0, segments=seg, swapped_normals=normals,\n",
    "                                      include_boundary_dofs=True)\n",
    "              for seg, normals in zip(segments, swapped_normals)]\n",
    "tA = [bempp.api.function_space(grid, \"SNC\", 0, segments=seg, swapped_normals=normals,\n",
    "                                      include_boundary_dofs=True)\n",
    "              for seg, normals in zip(segments, swapped_normals)]\n",
    "\n",
    "\n",
    "multitrace_ops = []\n",
    "multitrace_ops_intern = []\n",
    "# > Assemble all diagonal operators\n",
    "for index in range(2):\n",
    "  k = k_list[index]\n",
    "  mu = mu_list[index]\n",
    "  eta = eta_rel_list[index]\n",
    "  efie = bempp.api.operators.boundary.maxwell.electric_field(dA[index], rA[index], tA[index], k)\n",
    "  mfie = bempp.api.operators.boundary.maxwell.magnetic_field(dA[index], rA[index], tA[index], k)\n",
    "  multitrace_ops.append(bempp.api.GeneralizedBlockedOperator([[mfie, eta * efie],[- 1/eta * efie, mfie]]))\n",
    "\n",
    "\n"
   ]
  },
  {
   "cell_type": "code",
   "execution_count": 7,
   "id": "a063dd80-ec6d-41fa-b358-10e523fac210",
   "metadata": {},
   "outputs": [
    {
     "data": {
      "text/plain": [
       "\u001b[0;31mSignature:\u001b[0m\n",
       "\u001b[0mbempp\u001b[0m\u001b[0;34m.\u001b[0m\u001b[0mapi\u001b[0m\u001b[0;34m.\u001b[0m\u001b[0moperators\u001b[0m\u001b[0;34m.\u001b[0m\u001b[0mboundary\u001b[0m\u001b[0;34m.\u001b[0m\u001b[0mmaxwell\u001b[0m\u001b[0;34m.\u001b[0m\u001b[0mmultitrace_operator\u001b[0m\u001b[0;34m(\u001b[0m\u001b[0;34m\u001b[0m\n",
       "\u001b[0;34m\u001b[0m    \u001b[0mgrid\u001b[0m\u001b[0;34m,\u001b[0m\u001b[0;34m\u001b[0m\n",
       "\u001b[0;34m\u001b[0m    \u001b[0mwavenumber\u001b[0m\u001b[0;34m,\u001b[0m\u001b[0;34m\u001b[0m\n",
       "\u001b[0;34m\u001b[0m    \u001b[0mepsilon_r\u001b[0m\u001b[0;34m=\u001b[0m\u001b[0;36m1\u001b[0m\u001b[0;34m,\u001b[0m\u001b[0;34m\u001b[0m\n",
       "\u001b[0;34m\u001b[0m    \u001b[0mmu_r\u001b[0m\u001b[0;34m=\u001b[0m\u001b[0;36m1\u001b[0m\u001b[0;34m,\u001b[0m\u001b[0;34m\u001b[0m\n",
       "\u001b[0;34m\u001b[0m    \u001b[0mtarget\u001b[0m\u001b[0;34m=\u001b[0m\u001b[0;32mNone\u001b[0m\u001b[0;34m,\u001b[0m\u001b[0;34m\u001b[0m\n",
       "\u001b[0;34m\u001b[0m    \u001b[0mspace_type\u001b[0m\u001b[0;34m=\u001b[0m\u001b[0;34m'magnetic_dual'\u001b[0m\u001b[0;34m,\u001b[0m\u001b[0;34m\u001b[0m\n",
       "\u001b[0;34m\u001b[0m    \u001b[0mparameters\u001b[0m\u001b[0;34m=\u001b[0m\u001b[0;32mNone\u001b[0m\u001b[0;34m,\u001b[0m\u001b[0;34m\u001b[0m\n",
       "\u001b[0;34m\u001b[0m    \u001b[0massembler\u001b[0m\u001b[0;34m=\u001b[0m\u001b[0;34m'default_nonlocal'\u001b[0m\u001b[0;34m,\u001b[0m\u001b[0;34m\u001b[0m\n",
       "\u001b[0;34m\u001b[0m    \u001b[0mdevice_interface\u001b[0m\u001b[0;34m=\u001b[0m\u001b[0;32mNone\u001b[0m\u001b[0;34m,\u001b[0m\u001b[0;34m\u001b[0m\n",
       "\u001b[0;34m\u001b[0m    \u001b[0mprecision\u001b[0m\u001b[0;34m=\u001b[0m\u001b[0;32mNone\u001b[0m\u001b[0;34m,\u001b[0m\u001b[0;34m\u001b[0m\n",
       "\u001b[0;34m\u001b[0m\u001b[0;34m)\u001b[0m\u001b[0;34m\u001b[0m\u001b[0;34m\u001b[0m\u001b[0m\n",
       "\u001b[0;31mDocstring:\u001b[0m\n",
       "Simplified version of multitrace operator assembly.\n",
       "\n",
       "Parameters\n",
       "----------\n",
       "grid : Grid\n",
       "    Bempp grid object.\n",
       "wavenumber : complex\n",
       "    A real or complex wavenumber\n",
       "epsilon_r : float\n",
       "    Relative permittivity with respect to vacuum.\n",
       "mu_r : float\n",
       "    Relative permeability with respect to vacuum.\n",
       "target : Grid\n",
       "    The grid for the range spaces. If target is None then\n",
       "    target is set to the input grid (that is the domain\n",
       "    grid).\n",
       "space_type : string\n",
       "    One of \"all_rwg\", \"all_bc\", \"magnetic_dual\" (default),\n",
       "    \"electric_dual\". These lead to the following\n",
       "    choices of space, range, and dual_to_range:\n",
       "    default - (RWG, RWG), (BC, BC), (SNC, SNC)\n",
       "    all_dual - (BC, BC), (RWG, RWG), (RBC, RBC)\n",
       "    magnetic_dual - (RWG, BC), (RWG, BC), (RBC, SNC)\n",
       "    electric_dual - (BC, RWG), (BC, RWG), (SNC, RBC)\n",
       "parameters : Parameters\n",
       "    An optional parameters object.\n",
       "assembler : string\n",
       "    The assembler type.\n",
       "device_interface : DeviceInterface\n",
       "    The device interface object to be used.\n",
       "precision : string\n",
       "    Either \"single\" or \"double\" for single or\n",
       "    double precision mode.\n",
       "\n",
       "Output\n",
       "------\n",
       "The Maxwell multitrace operator of the form\n",
       "[[M, E], [-E, M]], where M represens the magnetic\n",
       "and E the electric field boundary operators in\n",
       "the respective spaces defined through space_type.\n",
       "Note that the operators in the first and second\n",
       "row have different discretisations depending on\n",
       "the type of spaces used.\n",
       "\u001b[0;31mFile:\u001b[0m      /usr/local/lib/python3.10/dist-packages/bempp/api/operators/boundary/maxwell.py\n",
       "\u001b[0;31mType:\u001b[0m      function"
      ]
     },
     "metadata": {},
     "output_type": "display_data"
    }
   ],
   "source": [
    "bempp.api.operators.boundary.maxwell.multitrace_operator?"
   ]
  },
  {
   "cell_type": "code",
   "execution_count": 3,
   "id": "be9330cc-2b7d-4a1d-a933-5f245bda8970",
   "metadata": {},
   "outputs": [
    {
     "name": "stderr",
     "output_type": "stream",
     "text": [
      "bempp:HOST:INFO: OpenCL CPU Device set to: pthread-AMD EPYC 7302 16-Core Processor\n",
      "/usr/local/lib/python3.10/dist-packages/pyopencl/cache.py:495: CompilerWarning: Non-empty compiler output encountered. Set the environment variable PYOPENCL_COMPILER_OUTPUT=1 to see more.\n",
      "  _create_built_program_from_source_cached(\n",
      "/usr/local/lib/python3.10/dist-packages/pyopencl/cache.py:499: CompilerWarning: Non-empty compiler output encountered. Set the environment variable PYOPENCL_COMPILER_OUTPUT=1 to see more.\n",
      "  prg.build(options_bytes, devices)\n"
     ]
    }
   ],
   "source": [
    "A0 = multitrace_ops[0].weak_form()\n",
    "\n"
   ]
  },
  {
   "cell_type": "code",
   "execution_count": 4,
   "id": "f8017a50-1661-4a96-a394-d57fd3174a60",
   "metadata": {},
   "outputs": [],
   "source": [
    "efie_10_20 = bempp.api.operators.boundary.maxwell.electric_field(dA[0], rA[1], tA[1], k)"
   ]
  },
  {
   "cell_type": "code",
   "execution_count": 5,
   "id": "b075067a-402c-4d3d-922b-38254e48ca7c",
   "metadata": {},
   "outputs": [
    {
     "name": "stdout",
     "output_type": "stream",
     "text": [
      "(74, 74)\n",
      "(68, 68)\n"
     ]
    }
   ],
   "source": [
    "print(A10_wf.shape)\n",
    "print(A20_wf.shape)"
   ]
  },
  {
   "cell_type": "code",
   "execution_count": 6,
   "id": "f3352281-381e-4585-9c3c-fd3a64e6bdba",
   "metadata": {},
   "outputs": [
    {
     "data": {
      "text/plain": [
       "<34x37 DenseDiscreteBoundaryOperator with dtype=complex128>"
      ]
     },
     "execution_count": 6,
     "metadata": {},
     "output_type": "execute_result"
    }
   ],
   "source": [
    "efie_10_20.weak_form()"
   ]
  },
  {
   "cell_type": "code",
   "execution_count": null,
   "id": "415d29c2-cc05-4c0e-8c4e-af72b968436e",
   "metadata": {},
   "outputs": [],
   "source": []
  }
 ],
 "metadata": {
  "kernelspec": {
   "display_name": "Python 3 (ipykernel)",
   "language": "python",
   "name": "python3"
  },
  "language_info": {
   "codemirror_mode": {
    "name": "ipython",
    "version": 3
   },
   "file_extension": ".py",
   "mimetype": "text/x-python",
   "name": "python",
   "nbconvert_exporter": "python",
   "pygments_lexer": "ipython3",
   "version": "3.10.12"
  }
 },
 "nbformat": 4,
 "nbformat_minor": 5
}
