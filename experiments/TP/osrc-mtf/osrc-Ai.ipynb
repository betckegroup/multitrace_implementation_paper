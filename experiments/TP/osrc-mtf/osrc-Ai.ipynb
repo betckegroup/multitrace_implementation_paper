{
 "cells": [
  {
   "cell_type": "code",
   "execution_count": 47,
   "id": "36f57066-65a6-47cf-a98f-9d4f178acaa3",
   "metadata": {},
   "outputs": [
    {
     "name": "stderr",
     "output_type": "stream",
     "text": [
      "bempp:HOST:INFO: Created grid with id c1bd145e-257a-4d1f-aa1a-9b54da1b56b6. Elements: 792. Edges: 1174. Vertices: 385\n",
      "bempp:HOST:WARNING: Setting include_boundary_dofs has no effect on this space type.\n",
      "bempp:HOST:WARNING: Setting include_boundary_dofs has no effect on this space type.\n",
      "bempp:HOST:WARNING: Setting include_boundary_dofs has no effect on this space type.\n",
      "bempp:HOST:WARNING: Setting include_boundary_dofs has no effect on this space type.\n"
     ]
    },
    {
     "name": "stdout",
     "output_type": "stream",
     "text": [
      "The exterior wavenumber is: 5.0\n",
      "The interior wavenumber is: 6.892024376045111\n",
      "----\n",
      "The exterior wavelenght is: 1.2566370614359172\n",
      "The exterior frequency is: 2.39E+8\n",
      "\n",
      "0.25132741228718347 : h\n",
      "5 : precision\n",
      "2348 : N\n"
     ]
    }
   ],
   "source": [
    "#Je reviens à quelque chose de beaucoup plus simple. On va prouver que l'on obtient le bon FF pour STF classique. \n",
    "#Travaillons en mode dense, facile.\n",
    "# This first version is for the classical STF. \n",
    "# Now, try to get to the domain-based STF...\n",
    "\n",
    "import bempp.api \n",
    "import numpy as np\n",
    "import mtf\n",
    "from mtf.preconditioning.osrc import osrc_MtE\n",
    "from mtf.utils.iterative import gmres\n",
    "\n",
    "from bempp.api.operators.boundary.sparse import identity\n",
    "\n",
    "from bempp.api.assembly.blocked_operator import BlockedOperator\n",
    "from mtf.assembly.operators import GeneralizedBlockedOperator\n",
    "from bempp.api import ZeroBoundaryOperator\n",
    "\n",
    "from mtf.utils import bhmie\n",
    "from mtf.config import config\n",
    "from mtf.functions import define_bempp_functions\n",
    "from matplotlib import pyplot as plt\n",
    "from decimal import Decimal\n",
    "\n",
    "bempp.api.enable_console_logging()\n",
    "#M = 2\n",
    "\n",
    "M = 3\n",
    "\n",
    "mtf.config.set_case(\"B\")\n",
    "\n",
    "tangential_trace, neumann_trace = define_bempp_functions(config)\n",
    "\n",
    "k0, k1 = config[\"k_ext\"], config[\"k_int\"]\n",
    "lambda_par, freq = config[\"lambda\"], config[\"frequency\"]\n",
    "\n",
    "polarization = config[\"polarization\"]\n",
    "direction = config[\"direction\"]\n",
    "\n",
    "eps_rel = config[\"eps_rel\"]\n",
    "mu_rel = config[\"mu_rel\"]\n",
    "mu0 = config[\"mu_ext\"]\n",
    "mu1 = mu_rel * mu0\n",
    "\n",
    "eta_rel = np.sqrt(mu_rel / eps_rel)\n",
    "\n",
    "print(\"The exterior wavenumber is: {0}\".format(k0))\n",
    "print(\"The interior wavenumber is: {0}\".format(k1))\n",
    "\n",
    "print(\"----\")\n",
    "print(\"The exterior wavelenght is: {0}\".format(lambda_par))\n",
    "print(\"The exterior frequency is: {:.2E}\".format(Decimal(freq)))\n",
    "\n",
    "# To do: Go to the multi-domain STF...\n",
    "#segments = [[10], [10]]\n",
    "#swapped_normals = [[10], []]\n",
    "\n",
    "segments = [[10, 20], [10, 12], [12,20], [10, 20, 12]]\n",
    "swapped_normals = [[10, 20], [], [12], []]\n",
    "\n",
    "k_int, k_ext = config[\"k_int\"], config[\"k_ext\"]\n",
    "\n",
    "n = k_int / k_ext\n",
    "refIndex = n\n",
    "numAngles = 901\n",
    "s1, s2, qext, qsca, qback, gsca = bhmie(k_ext, k_int / k_ext, numAngles)\n",
    "angles = config['angles']\n",
    "\n",
    "k_list = [k0]\n",
    "eta_rel_list = [1]\n",
    "mu_list = [mu0]\n",
    "\n",
    "for index in range(M-1):\n",
    "  k_list.append(k1)\n",
    "  mu_list.append(mu1)\n",
    "  eta_rel_list.append(eta_rel)\n",
    "\n",
    "\n",
    "precision = 5\n",
    "\n",
    "h = 2 * np.pi/(precision*k0)\n",
    "grid = bempp.api.shapes.multitrace_sphere(h=h)\n",
    "\n",
    "print(h, ': h')\n",
    "print(precision, ': precision')\n",
    "print(grid.number_of_edges * 2, ': N')\n",
    "\n",
    "\n",
    "dA = [bempp.api.function_space(grid, \"RWG\", 0, segments=seg, swapped_normals=normals,\n",
    "                                      include_boundary_dofs=True)\n",
    "              for seg, normals in zip(segments, swapped_normals)]\n",
    "\n",
    "p1dA = [bempp.api.function_space(grid, \"DP\", 1, segments=seg, swapped_normals=normals,\n",
    "                                      include_boundary_dofs=True)\n",
    "              for seg, normals in zip(segments, swapped_normals)]\n",
    "\n",
    "rA = [bempp.api.function_space(grid, \"RWG\", 0, segments=seg, swapped_normals=normals,\n",
    "                                      include_boundary_dofs=True)\n",
    "              for seg, normals in zip(segments, swapped_normals)]\n",
    "tA = [bempp.api.function_space(grid, \"SNC\", 0, segments=seg, swapped_normals=normals,\n",
    "                                      include_boundary_dofs=True)\n",
    "              for seg, normals in zip(segments, swapped_normals)]\n",
    "\n",
    "\n",
    "\n",
    "multitrace_ops = []\n",
    "osrc_ops = []\n",
    "# > Assemble all diagonal operators\n",
    "for index in range(M):\n",
    "  k = k_list[index]\n",
    "  mu = mu_list[index]\n",
    "  eta = eta_rel_list[index]\n",
    "  efie = bempp.api.operators.boundary.maxwell.electric_field(dA[index], rA[index], tA[index], k)\n",
    "  mfie = bempp.api.operators.boundary.maxwell.magnetic_field(dA[index], rA[index], tA[index], k)\n",
    "  zero = (1+1j) * bempp.api.ZeroBoundaryOperator(dA[index], rA[index], tA[index])\n",
    "  multitrace_ops.append(GeneralizedBlockedOperator([[mfie, eta * efie],[- 1/eta * efie, mfie]]))\n",
    "\n",
    "\n"
   ]
  },
  {
   "cell_type": "code",
   "execution_count": 48,
   "id": "b2a87506-09cd-4bb6-8a71-018c98c4482b",
   "metadata": {},
   "outputs": [],
   "source": [
    "I = bempp.api.operators.boundary.sparse.identity(rA[index], rA[index], rA[-1])\n"
   ]
  },
  {
   "cell_type": "code",
   "execution_count": 49,
   "id": "1fbafe10-9576-4031-b07e-c28266d4b9c7",
   "metadata": {},
   "outputs": [],
   "source": [
    "I_wf = I.weak_form()"
   ]
  },
  {
   "cell_type": "code",
   "execution_count": 50,
   "id": "ffe04463-62d1-4a14-86fe-353135d29db2",
   "metadata": {},
   "outputs": [],
   "source": [
    "Ib = bempp.api.as_matrix(I_wf).A"
   ]
  },
  {
   "cell_type": "code",
   "execution_count": 55,
   "id": "ec253eee-a75c-4dae-b667-ed362449fc07",
   "metadata": {},
   "outputs": [
    {
     "data": {
      "text/plain": [
       "<matplotlib.image.AxesImage at 0x7f5dccae9150>"
      ]
     },
     "execution_count": 55,
     "metadata": {},
     "output_type": "execute_result"
    },
    {
     "data": {
      "image/png": "[encoded data removed]",
      "text/plain": [
       "<Figure size 640x480 with 1 Axes>"
      ]
     },
     "metadata": {},
     "output_type": "display_data"
    }
   ],
   "source": [
    "plt.spy(Ib)"
   ]
  },
  {
   "cell_type": "code",
   "execution_count": 16,
   "id": "f2ade218-5ba8-43d9-a464-993396cdae90",
   "metadata": {},
   "outputs": [],
   "source": [
    "from bempp.api.operators.boundary.sparse import lambda_2"
   ]
  },
  {
   "cell_type": "code",
   "execution_count": 34,
   "id": "704f0067-da54-4b10-a86c-b57839540cd8",
   "metadata": {},
   "outputs": [],
   "source": [
    " from bempp.api.operators.boundary.sparse import lambda_1\n",
    "from bempp.api.operators.boundary.sparse import lambda_2\n",
    "from bempp.api.operators.boundary.sparse import mte_operators\n",
    "from bempp.api.assembly.discrete_boundary_operator import InverseSparseDiscreteBoundaryOperator\n",
    "from scipy.sparse.linalg import LinearOperator\n",
    "import numpy as _np\n",
    "\n",
    "wavenumber, npade, theta, damped_wavenumber = mte.descriptor.options\n",
    "dk = wavenumber + 1.0j * 0.39 * wavenumber ** (1.0 / 3) * _np.sqrt(2) ** (2.0 / 3)\n",
    "\n",
    "mte_op = mte_operators(mte.domains_, mte.ranges_, mte.dual_to_ranges_, dk)\n",
    "lambd_2 = lambda_2(mte_op).weak_form()\n"
   ]
  },
  {
   "cell_type": "code",
   "execution_count": 57,
   "id": "cf01f9c5-5cb9-48db-97bc-4645893f89c4",
   "metadata": {},
   "outputs": [
    {
     "data": {
      "text/plain": [
       "\u001b[0;31mInit signature:\u001b[0m\n",
       "\u001b[0mbempp\u001b[0m\u001b[0;34m.\u001b[0m\u001b[0mapi\u001b[0m\u001b[0;34m.\u001b[0m\u001b[0massembly\u001b[0m\u001b[0;34m.\u001b[0m\u001b[0mboundary_operator\u001b[0m\u001b[0;34m.\u001b[0m\u001b[0mBoundaryOperatorWithAssembler\u001b[0m\u001b[0;34m(\u001b[0m\u001b[0;34m\u001b[0m\n",
       "\u001b[0;34m\u001b[0m    \u001b[0mdomain\u001b[0m\u001b[0;34m,\u001b[0m\u001b[0;34m\u001b[0m\n",
       "\u001b[0;34m\u001b[0m    \u001b[0mrange_\u001b[0m\u001b[0;34m,\u001b[0m\u001b[0;34m\u001b[0m\n",
       "\u001b[0;34m\u001b[0m    \u001b[0mdual_to_range\u001b[0m\u001b[0;34m,\u001b[0m\u001b[0;34m\u001b[0m\n",
       "\u001b[0;34m\u001b[0m    \u001b[0massembler\u001b[0m\u001b[0;34m,\u001b[0m\u001b[0;34m\u001b[0m\n",
       "\u001b[0;34m\u001b[0m    \u001b[0moperator_descriptor\u001b[0m\u001b[0;34m,\u001b[0m\u001b[0;34m\u001b[0m\n",
       "\u001b[0;34m\u001b[0m    \u001b[0mtranspose\u001b[0m\u001b[0;34m=\u001b[0m\u001b[0;32mFalse\u001b[0m\u001b[0;34m,\u001b[0m\u001b[0;34m\u001b[0m\n",
       "\u001b[0;34m\u001b[0m\u001b[0;34m)\u001b[0m\u001b[0;34m\u001b[0m\u001b[0;34m\u001b[0m\u001b[0m\n",
       "\u001b[0;31mDocstring:\u001b[0m      Implements a boundary operator together with an assembler.\n",
       "\u001b[0;31mInit docstring:\u001b[0m Initialize a boundary operator with assembler.\n",
       "\u001b[0;31mFile:\u001b[0m           /usr/local/lib/python3.10/dist-packages/bempp/api/assembly/boundary_operator.py\n",
       "\u001b[0;31mType:\u001b[0m           type\n",
       "\u001b[0;31mSubclasses:\u001b[0m     "
      ]
     },
     "metadata": {},
     "output_type": "display_data"
    }
   ],
   "source": [
    "bempp.api.assembly.boundary_operator.BoundaryOperatorWithAssembler?"
   ]
  },
  {
   "cell_type": "code",
   "execution_count": 68,
   "id": "0f074040-5708-4eb4-b9d1-d70df583797b",
   "metadata": {},
   "outputs": [],
   "source": [
    "map_dom0_to_skeleton = identity(dA[0], dA[-1], dA[-1])"
   ]
  },
  {
   "cell_type": "code",
   "execution_count": 77,
   "id": "e2dc3f53-d42d-4271-9e88-daf3fbc93328",
   "metadata": {},
   "outputs": [],
   "source": [
    "I_wf = map_dom0_to_skeleton.weak_form()"
   ]
  },
  {
   "cell_type": "code",
   "execution_count": 91,
   "id": "791836ff-294d-40e0-904c-540dfaa92f62",
   "metadata": {},
   "outputs": [
    {
     "data": {
      "text/plain": [
       "<1884x942 sparse matrix of type '<class 'numpy.float64'>'\n",
       "\twith 1884 stored elements in Compressed Sparse Row format>"
      ]
     },
     "execution_count": 91,
     "metadata": {},
     "output_type": "execute_result"
    }
   ],
   "source": [
    "dA0.map_to_localised_space"
   ]
  },
  {
   "cell_type": "code",
   "execution_count": 92,
   "id": "d4979f73-7c0a-407c-9429-8ef0e497e47c",
   "metadata": {},
   "outputs": [],
   "source": [
    "dAS = dA[-1]"
   ]
  },
  {
   "cell_type": "code",
   "execution_count": 97,
   "id": "1a999bbd-1638-4d80-9dc1-2f33083292e9",
   "metadata": {},
   "outputs": [
    {
     "data": {
      "text/plain": [
       "<2376x1146 sparse matrix of type '<class 'numpy.float64'>'\n",
       "\twith 2376 stored elements in Compressed Sparse Row format>"
      ]
     },
     "execution_count": 97,
     "metadata": {},
     "output_type": "execute_result"
    }
   ],
   "source": [
    "dAS.map_to_full_grid"
   ]
  },
  {
   "cell_type": "code",
   "execution_count": 98,
   "id": "1b8f9a02-03f7-4d41-af08-a0abc153fe20",
   "metadata": {},
   "outputs": [
    {
     "data": {
      "text/plain": [
       "<2376x942 sparse matrix of type '<class 'numpy.float64'>'\n",
       "\twith 1884 stored elements in Compressed Sparse Row format>"
      ]
     },
     "execution_count": 98,
     "metadata": {},
     "output_type": "execute_result"
    }
   ],
   "source": [
    "dA0.map_to_full_grid"
   ]
  },
  {
   "cell_type": "code",
   "execution_count": 99,
   "id": "846d7f70-edb6-438b-b83b-b68a86e949e1",
   "metadata": {},
   "outputs": [
    {
     "name": "stderr",
     "output_type": "stream",
     "text": [
      "bempp:HOST:INFO: OpenCL CPU Device set to: pthread-AMD EPYC 7302 16-Core Processor\n",
      "/usr/local/lib/python3.10/dist-packages/pyopencl/cache.py:495: CompilerWarning: Non-empty compiler output encountered. Set the environment variable PYOPENCL_COMPILER_OUTPUT=1 to see more.\n",
      "  _create_built_program_from_source_cached(\n",
      "/usr/local/lib/python3.10/dist-packages/pyopencl/cache.py:499: CompilerWarning: Non-empty compiler output encountered. Set the environment variable PYOPENCL_COMPILER_OUTPUT=1 to see more.\n",
      "  prg.build(options_bytes, devices)\n"
     ]
    }
   ],
   "source": [
    "A0wf = A0.weak_form()"
   ]
  },
  {
   "cell_type": "code",
   "execution_count": null,
   "id": "637e9323-2429-4829-b785-38c9282fed88",
   "metadata": {},
   "outputs": [],
   "source": [
    "A0wf"
   ]
  },
  {
   "cell_type": "code",
   "execution_count": null,
   "id": "7764b26f-0e11-4b11-ac6e-c72e064c6e8b",
   "metadata": {},
   "outputs": [],
   "source": []
  }
 ],
 "metadata": {
  "kernelspec": {
   "display_name": "Python 3 (ipykernel)",
   "language": "python",
   "name": "python3"
  },
  "language_info": {
   "codemirror_mode": {
    "name": "ipython",
    "version": 3
   },
   "file_extension": ".py",
   "mimetype": "text/x-python",
   "name": "python",
   "nbconvert_exporter": "python",
   "pygments_lexer": "ipython3",
   "version": "3.10.12"
  }
 },
 "nbformat": 4,
 "nbformat_minor": 5
}
