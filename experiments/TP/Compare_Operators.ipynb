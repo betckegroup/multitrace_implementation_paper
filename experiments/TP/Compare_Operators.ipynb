{
 "cells": [
  {
   "cell_type": "code",
   "execution_count": 1,
   "id": "e2d22543-4297-488b-b3eb-f405d283150b",
   "metadata": {},
   "outputs": [
    {
     "name": "stdout",
     "output_type": "stream",
     "text": [
      "The exterior wavenumber is: 5.0\n",
      "The interior wavenumber is: 6.892024376045111\n",
      "----\n",
      "The exterior wavelenght is: 1.2566370614359172\n",
      "The exterior frequency is: 2.39E+8\n",
      "1.2566370614359172 : h\n",
      "1 : precision\n"
     ]
    }
   ],
   "source": [
    "import bempp.api \n",
    "import numpy as np\n",
    "import mtf\n",
    "from mtf.utils import bhmie\n",
    "from mtf.config import config\n",
    "from matplotlib import pyplot as plt\n",
    "from decimal import Decimal\n",
    "\n",
    "bempp.api.enable_console_logging()\n",
    "M = 2\n",
    "\n",
    "mtf.config.set_case(\"B\")\n",
    "\n",
    "#k_ext, k_int = config[\"k_ext\"], config[\"k_int\"]\n",
    "k0, k1 = config[\"k_ext\"], config[\"k_int\"]\n",
    "lambda_par, freq = config[\"lambda\"], config[\"frequency\"]\n",
    "\n",
    "polarization = config[\"polarization\"]\n",
    "direction = config[\"direction\"]\n",
    "\n",
    "eps_rel = config[\"eps_rel\"]\n",
    "mu_rel = config[\"mu_rel\"]\n",
    "mu0 = config[\"mu_ext\"]\n",
    "mu1 = mu_rel * mu0\n",
    "\n",
    "eta_rel = np.sqrt(mu_rel / eps_rel)\n",
    "\n",
    "print(\"The exterior wavenumber is: {0}\".format(k0))\n",
    "print(\"The interior wavenumber is: {0}\".format(k1))\n",
    "\n",
    "print(\"----\")\n",
    "print(\"The exterior wavelenght is: {0}\".format(lambda_par))\n",
    "print(\"The exterior frequency is: {:.2E}\".format(Decimal(freq)))\n",
    "\n",
    "#k0 = 10\n",
    "#mu0 = 1\n",
    "#refractivei = [1.5, 1.2]\n",
    "#mui = [1., 1.]\n",
    "precision = 1\n",
    "\n",
    "h = 2 * np.pi/(precision*k0)\n",
    "print(h, ': h')\n",
    "print(precision, ': precision')"
   ]
  },
  {
   "cell_type": "code",
   "execution_count": 2,
   "id": "f9dcf79e",
   "metadata": {},
   "outputs": [
    {
     "name": "stderr",
     "output_type": "stream",
     "text": [
      "bempp:HOST:INFO: Created grid with id da0d3989-530c-482c-8092-c9f6e14e0da2. Elements: 40. Edges: 60. Vertices: 22\n"
     ]
    },
    {
     "name": "stdout",
     "output_type": "stream",
     "text": [
      "60\n"
     ]
    }
   ],
   "source": [
    "segments = [[10], [10]]\n",
    "swapped_normals = [[10], []]\n",
    "\n",
    "grid = bempp.api.shapes.sphere(h=h)\n",
    "k_int, k_ext = config[\"k_int\"], config[\"k_ext\"]\n",
    "print(grid.number_of_edges)\n",
    "n = k_int / k_ext\n",
    "refIndex = n\n",
    "numAngles = 901\n",
    "s1, s2, qext, qsca, qback, gsca = bhmie(k_ext, k_int / k_ext, numAngles)\n",
    "#transmission_operators = assemble_operators(grid, config)\n",
    "#far_field, solution = evaluate_far_field(transmission_operators, config)\n"
   ]
  },
  {
   "cell_type": "code",
   "execution_count": 3,
   "id": "4f51fe51",
   "metadata": {},
   "outputs": [],
   "source": [
    "k_list = [k0]\n",
    "eta_rel_list = [1]\n",
    "mu_list = [mu0]\n",
    "\n",
    "for index in range(M-1):\n",
    "  k_list.append(k1)\n",
    "  mu_list.append(mu1)\n",
    "  eta_rel_list.append(eta_rel)\n",
    "    \n",
    "dA = [bempp.api.function_space(grid, \"RWG\", 0, segments=seg, swapped_normals=normals,\n",
    "                                      include_boundary_dofs=True)\n",
    "              for seg, normals in zip(segments, swapped_normals)]\n",
    "rA = [bempp.api.function_space(grid, \"RWG\", 0, segments=seg, swapped_normals=normals,\n",
    "                                      include_boundary_dofs=True)\n",
    "              for seg, normals in zip(segments, swapped_normals)]\n",
    "tA = [bempp.api.function_space(grid, \"SNC\", 0, segments=seg, swapped_normals=normals,\n",
    "                                      include_boundary_dofs=True)\n",
    "              for seg, normals in zip(segments, swapped_normals)]"
   ]
  },
  {
   "cell_type": "code",
   "execution_count": 4,
   "id": "51f60fb0",
   "metadata": {},
   "outputs": [],
   "source": [
    "multitrace_ops_fosd = []\n",
    "multitrace_ops_ak = []\n",
    "\n",
    "# > Assemble all diagonal operators\n",
    "for index in range(M):\n",
    "  k = k_list[index]\n",
    "  mu = mu_list[index]\n",
    "  eta = eta_rel_list[index]\n",
    "  efie = bempp.api.operators.boundary.maxwell.electric_field(dA[1], rA[1], tA[1], k)\n",
    "  mfie = bempp.api.operators.boundary.maxwell.magnetic_field(dA[1], rA[1], tA[1], k)\n",
    "  multitrace_ops_fosd.append(bempp.api.GeneralizedBlockedOperator([[mfie, eta * efie],[- 1/eta * efie, mfie]]))\n",
    "  multitrace_ops_ak.append(bempp.api.GeneralizedBlockedOperator([[mfie, k / mu * efie],[- mu /k * efie, mfie]]))\n"
   ]
  },
  {
   "cell_type": "code",
   "execution_count": 5,
   "id": "5c1375ac",
   "metadata": {},
   "outputs": [],
   "source": [
    "lhs_op_fosd = multitrace_ops_fosd[0] + multitrace_ops_fosd[1]\n",
    "lhs_op_ak = multitrace_ops_ak[0] + multitrace_ops_ak[1]"
   ]
  },
  {
   "cell_type": "code",
   "execution_count": 6,
   "id": "ce6a6260",
   "metadata": {},
   "outputs": [
    {
     "name": "stderr",
     "output_type": "stream",
     "text": [
      "bempp:HOST:INFO: OpenCL CPU Device set to: pthread-AMD EPYC 7302 16-Core Processor\n"
     ]
    }
   ],
   "source": [
    "A_fosd = bempp.api.as_matrix(lhs_op_fosd.weak_form())\n",
    "A_ak = bempp.api.as_matrix(lhs_op_ak.weak_form())"
   ]
  },
  {
   "cell_type": "code",
   "execution_count": 7,
   "id": "73d46cfe",
   "metadata": {},
   "outputs": [
    {
     "name": "stdout",
     "output_type": "stream",
     "text": [
      "29.317485544969003 cond_2 FOSD\n",
      "418328586376000.4 cond_2 AK\n"
     ]
    }
   ],
   "source": [
    "print(np.linalg.cond(A_fosd), 'cond_2 FOSD')\n",
    "print(np.linalg.cond(A_ak), 'cond_2 AK')"
   ]
  }
 ],
 "metadata": {
  "kernelspec": {
   "display_name": "Python 3 (ipykernel)",
   "language": "python",
   "name": "python3"
  },
  "language_info": {
   "codemirror_mode": {
    "name": "ipython",
    "version": 3
   },
   "file_extension": ".py",
   "mimetype": "text/x-python",
   "name": "python",
   "nbconvert_exporter": "python",
   "pygments_lexer": "ipython3",
   "version": "3.9.7"
  }
 },
 "nbformat": 4,
 "nbformat_minor": 5
}
