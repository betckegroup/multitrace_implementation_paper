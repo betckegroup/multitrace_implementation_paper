{
 "cells": [
  {
   "cell_type": "code",
   "execution_count": 1,
   "id": "e2d22543-4297-488b-b3eb-f405d283150b",
   "metadata": {},
   "outputs": [
    {
     "name": "stdout",
     "output_type": "stream",
     "text": [
      "The exterior wavenumber is: 5.0\n",
      "The interior wavenumber is: 6.892024376045111\n",
      "----\n",
      "The exterior wavelenght is: 1.2566370614359172\n",
      "The exterior frequency is: 2.39E+8\n"
     ]
    }
   ],
   "source": [
    "import bempp.api \n",
    "import numpy as np\n",
    "import mtf\n",
    "\n",
    "from mtf.utils import bhmie\n",
    "from mtf.config import config\n",
    "from mtf.functions import define_bempp_functions\n",
    "\n",
    "from matplotlib import pyplot as plt\n",
    "from decimal import Decimal\n",
    "\n",
    "bempp.api.enable_console_logging()\n",
    "M = 2\n",
    "\n",
    "mtf.config.set_case(\"B\")\n",
    "\n",
    "tangential_trace, neumann_trace = define_bempp_functions(config)\n",
    "\n",
    "#k_ext, k_int = config[\"k_ext\"], config[\"k_int\"]\n",
    "k0, k1 = config[\"k_ext\"], config[\"k_int\"]\n",
    "lambda_par, freq = config[\"lambda\"], config[\"frequency\"]\n",
    "\n",
    "polarization = config[\"polarization\"]\n",
    "direction = config[\"direction\"]\n",
    "\n",
    "eps_rel = config[\"eps_rel\"]\n",
    "mu_rel = config[\"mu_rel\"]\n",
    "mu0 = config[\"mu_ext\"]\n",
    "mu1 = mu_rel * mu0\n",
    "\n",
    "eta_rel = np.sqrt(mu_rel / eps_rel)\n",
    "\n",
    "print(\"The exterior wavenumber is: {0}\".format(k0))\n",
    "print(\"The interior wavenumber is: {0}\".format(k1))\n",
    "\n",
    "print(\"----\")\n",
    "print(\"The exterior wavelenght is: {0}\".format(lambda_par))\n",
    "print(\"The exterior frequency is: {:.2E}\".format(Decimal(freq)))"
   ]
  },
  {
   "cell_type": "code",
   "execution_count": 2,
   "id": "f9dcf79e",
   "metadata": {},
   "outputs": [],
   "source": [
    "segments = [[10], [10]]\n",
    "swapped_normals = [[10], []]\n",
    "\n",
    "k_int, k_ext = config[\"k_int\"], config[\"k_ext\"]\n",
    "\n",
    "n = k_int / k_ext\n",
    "refIndex = n\n",
    "numAngles = 901\n",
    "s1, s2, qext, qsca, qback, gsca = bhmie(k_ext, k_int / k_ext, numAngles)\n",
    "angles = config['angles']\n",
    "\n",
    "#transmission_operators = assemble_operators(grid, config)\n",
    "#far_field, solution = evaluate_far_field(transmission_operators, config)\n",
    "\n",
    "k_list = [k0]\n",
    "eta_rel_list = [1]\n",
    "mu_list = [mu0]\n",
    "\n",
    "for index in range(M-1):\n",
    "  k_list.append(k1)\n",
    "  mu_list.append(mu1)\n",
    "  eta_rel_list.append(eta_rel)\n",
    "\n",
    "\n",
    "\n"
   ]
  },
  {
   "cell_type": "code",
   "execution_count": 3,
   "id": "4f51fe51",
   "metadata": {},
   "outputs": [
    {
     "name": "stderr",
     "output_type": "stream",
     "text": [
      "bempp:HOST:INFO: Created grid with id da8e3f84-56b5-442d-993a-379c742e87f1. Elements: 40. Edges: 60. Vertices: 22\n"
     ]
    },
    {
     "name": "stdout",
     "output_type": "stream",
     "text": [
      "1.2566370614359172 : h\n",
      "1 : precision\n",
      "120 : N\n"
     ]
    },
    {
     "name": "stderr",
     "output_type": "stream",
     "text": [
      "bempp:HOST:INFO: OpenCL CPU Device set to: pthread-AMD EPYC 7302 16-Core Processor\n"
     ]
    },
    {
     "name": "stdout",
     "output_type": "stream",
     "text": [
      "0.39050654463273454\n"
     ]
    }
   ],
   "source": [
    "precision = 1\n",
    "\n",
    "h = 2 * np.pi/(precision*k0)\n",
    "grid = bempp.api.shapes.sphere(h=h)\n",
    "\n",
    "\n",
    "print(h, ': h')\n",
    "print(precision, ': precision')\n",
    "print(grid.number_of_edges * 2, ': N')\n",
    "\n",
    "    \n",
    "dA = [bempp.api.function_space(grid, \"RWG\", 0, segments=seg, swapped_normals=normals,\n",
    "                                      include_boundary_dofs=True)\n",
    "              for seg, normals in zip(segments, swapped_normals)]\n",
    "rA = [bempp.api.function_space(grid, \"RWG\", 0, segments=seg, swapped_normals=normals,\n",
    "                                      include_boundary_dofs=True)\n",
    "              for seg, normals in zip(segments, swapped_normals)]\n",
    "tA = [bempp.api.function_space(grid, \"SNC\", 0, segments=seg, swapped_normals=normals,\n",
    "                                      include_boundary_dofs=True)\n",
    "              for seg, normals in zip(segments, swapped_normals)]\n",
    "\n",
    "multitrace_ops = []\n",
    "\n",
    "# > Assemble all diagonal operators\n",
    "for index in range(M):\n",
    "  k = k_list[index]\n",
    "  mu = mu_list[index]\n",
    "  eta = eta_rel_list[index]\n",
    "  efie = bempp.api.operators.boundary.maxwell.electric_field(dA[1], rA[1], tA[1], k)\n",
    "  mfie = bempp.api.operators.boundary.maxwell.magnetic_field(dA[1], rA[1], tA[1], k)\n",
    "  multitrace_ops.append(bempp.api.GeneralizedBlockedOperator([[mfie, eta * efie],[- 1/eta * efie, mfie]]))\n",
    "\n",
    "lhs_op = multitrace_ops[0] + multitrace_ops[1]    \n",
    "rhs = [bempp.api.GridFunction(rA[1], dual_space = tA[1], fun=tangential_trace),\n",
    "      bempp.api.GridFunction(rA[1], dual_space = tA[1], fun=neumann_trace)]\n",
    "\n",
    "A = bempp.api.as_matrix(lhs_op.weak_form())\n",
    "b = bempp.api.assembly.blocked_operator.projections_from_grid_functions_list(rhs, lhs_op.dual_to_range_spaces)\n",
    "x = np.linalg.solve(A, b)\n",
    "sol = bempp.api.assembly.blocked_operator.grid_function_list_from_coefficients(x.ravel(), lhs_op.domain_spaces)\n",
    "\n",
    "far_field_points = config['far_field_points']\n",
    "electric_far = bempp.api.operators.far_field.maxwell.electric_field(sol[1].space, far_field_points, k0)\n",
    "magnetic_far = bempp.api.operators.far_field.maxwell.magnetic_field(sol[0].space, far_field_points, k0)    \n",
    "far_field = - electric_far * sol[1] - magnetic_far * sol[0]\n",
    "\n",
    "A22 = far_field[2,:]\n",
    "uh = 10 * np.log10(4 * np.pi * np.abs(A22[:1801]))\n",
    "u =  10 * np.log10(4 * np.pi * np.abs(s1 / (-1j * k_ext) ))\n",
    "rel_error = np.linalg.norm(uh - u) / np.linalg.norm(u)\n",
    "\n",
    "print(rel_error)"
   ]
  },
  {
   "cell_type": "code",
   "execution_count": null,
   "id": "cca3f6b5",
   "metadata": {},
   "outputs": [],
   "source": []
  }
 ],
 "metadata": {
  "kernelspec": {
   "display_name": "Python 3 (ipykernel)",
   "language": "python",
   "name": "python3"
  },
  "language_info": {
   "codemirror_mode": {
    "name": "ipython",
    "version": 3
   },
   "file_extension": ".py",
   "mimetype": "text/x-python",
   "name": "python",
   "nbconvert_exporter": "python",
   "pygments_lexer": "ipython3",
   "version": "3.10.12"
  }
 },
 "nbformat": 4,
 "nbformat_minor": 5
}
