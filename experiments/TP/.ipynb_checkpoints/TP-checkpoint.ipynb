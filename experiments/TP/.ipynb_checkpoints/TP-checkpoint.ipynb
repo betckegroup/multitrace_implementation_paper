{
 "cells": [
  {
   "cell_type": "code",
   "execution_count": 1,
   "id": "e2d22543-4297-488b-b3eb-f405d283150b",
   "metadata": {},
   "outputs": [
    {
     "name": "stdout",
     "output_type": "stream",
     "text": [
      "The exterior wavenumber is: 5.0\n",
      "The interior wavenumber is: 6.892024376045111\n",
      "----\n",
      "The exterior wavelenght is: 1.2566370614359172\n",
      "The exterior frequency is: 2.39E+8\n",
      "0.12566370614359174 : h\n",
      "10 : precision\n"
     ]
    }
   ],
   "source": [
    "import bempp.api \n",
    "import numpy as np\n",
    "import mtf\n",
    "from mtf.utils import bhmie\n",
    "from mtf.config import config\n",
    "from matplotlib import pyplot as plt\n",
    "from decimal import Decimal\n",
    "\n",
    "bempp.api.enable_console_logging()\n",
    "M = 2\n",
    "\n",
    "mtf.config.set_case(\"B\")\n",
    "\n",
    "#k_ext, k_int = config[\"k_ext\"], config[\"k_int\"]\n",
    "k0, k1 = config[\"k_ext\"], config[\"k_int\"]\n",
    "lambda_par, freq = config[\"lambda\"], config[\"frequency\"]\n",
    "\n",
    "polarization = config[\"polarization\"]\n",
    "direction = config[\"direction\"]\n",
    "\n",
    "eps_rel = config[\"eps_rel\"]\n",
    "mu_rel = config[\"mu_rel\"]\n",
    "mu0 = config[\"mu_ext\"]\n",
    "mu1 = mu_rel * mu0\n",
    "\n",
    "eta_rel = np.sqrt(mu_rel / eps_rel)\n",
    "\n",
    "print(\"The exterior wavenumber is: {0}\".format(k0))\n",
    "print(\"The interior wavenumber is: {0}\".format(k1))\n",
    "\n",
    "print(\"----\")\n",
    "print(\"The exterior wavelenght is: {0}\".format(lambda_par))\n",
    "print(\"The exterior frequency is: {:.2E}\".format(Decimal(freq)))\n",
    "\n",
    "precision = 10\n",
    "\n",
    "h = 2 * np.pi/(precision*k0)\n",
    "print(h, ': h')\n",
    "print(precision, ': precision')"
   ]
  },
  {
   "cell_type": "code",
   "execution_count": 2,
   "id": "f9dcf79e",
   "metadata": {},
   "outputs": [
    {
     "name": "stderr",
     "output_type": "stream",
     "text": [
      "bempp:HOST:INFO: Created grid with id c082855e-f0f9-45cd-9cdf-f909fc2943d9. Elements: 2136. Edges: 3204. Vertices: 1070\n"
     ]
    },
    {
     "name": "stdout",
     "output_type": "stream",
     "text": [
      "3204\n"
     ]
    }
   ],
   "source": [
    "segments = [[10], [10]]\n",
    "swapped_normals = [[10], []]\n",
    "\n",
    "grid = bempp.api.shapes.sphere(h=h)\n",
    "k_int, k_ext = config[\"k_int\"], config[\"k_ext\"]\n",
    "print(grid.number_of_edges)\n",
    "n = k_int / k_ext\n",
    "refIndex = n\n",
    "numAngles = 901\n",
    "s1, s2, qext, qsca, qback, gsca = bhmie(k_ext, k_int / k_ext, numAngles)\n",
    "#transmission_operators = assemble_operators(grid, config)\n",
    "#far_field, solution = evaluate_far_field(transmission_operators, config)\n"
   ]
  },
  {
   "cell_type": "code",
   "execution_count": 3,
   "id": "4f51fe51",
   "metadata": {},
   "outputs": [],
   "source": [
    "k_list = [k0]\n",
    "eta_rel_list = [1]\n",
    "mu_list = [mu0]\n",
    "\n",
    "for index in range(M-1):\n",
    "  k_list.append(k1)\n",
    "  mu_list.append(mu1)\n",
    "  eta_rel_list.append(eta_rel)\n",
    "    \n",
    "dA = [bempp.api.function_space(grid, \"RWG\", 0, segments=seg, swapped_normals=normals,\n",
    "                                      include_boundary_dofs=True)\n",
    "              for seg, normals in zip(segments, swapped_normals)]\n",
    "rA = [bempp.api.function_space(grid, \"RWG\", 0, segments=seg, swapped_normals=normals,\n",
    "                                      include_boundary_dofs=True)\n",
    "              for seg, normals in zip(segments, swapped_normals)]\n",
    "tA = [bempp.api.function_space(grid, \"SNC\", 0, segments=seg, swapped_normals=normals,\n",
    "                                      include_boundary_dofs=True)\n",
    "              for seg, normals in zip(segments, swapped_normals)]"
   ]
  },
  {
   "cell_type": "code",
   "execution_count": 4,
   "id": "51f60fb0",
   "metadata": {},
   "outputs": [],
   "source": [
    "multitrace_ops = []\n",
    "\n",
    "\n",
    "# > Assemble all diagonal operators\n",
    "for index in range(M):\n",
    "  k = k_list[index]\n",
    "  mu = mu_list[index]\n",
    "  eta = eta_rel_list[index]\n",
    "  efie = bempp.api.operators.boundary.maxwell.electric_field(dA[1], rA[1], tA[1], k)\n",
    "  mfie = bempp.api.operators.boundary.maxwell.magnetic_field(dA[1], rA[1], tA[1], k)\n",
    "  multitrace_ops.append(bempp.api.GeneralizedBlockedOperator([[mfie, eta * efie],[- 1/eta * efie, mfie]]))"
   ]
  },
  {
   "cell_type": "code",
   "execution_count": 5,
   "id": "5c1375ac",
   "metadata": {},
   "outputs": [],
   "source": [
    "lhs_op = multitrace_ops[0] + multitrace_ops[1]"
   ]
  },
  {
   "cell_type": "code",
   "execution_count": 6,
   "id": "160532e3",
   "metadata": {},
   "outputs": [],
   "source": [
    "def plane_wave(point):\n",
    "    return polarization * np.exp(1j * k0 * np.dot(point, direction))\n",
    "\n",
    "@bempp.api.complex_callable\n",
    "def tangential_trace(point, n, domain_index, result):\n",
    "    value = polarization * np.exp(1j * k0 * np.dot(point, direction))\n",
    "    result[:] =  np.cross(value, n)\n",
    "\n",
    "@bempp.api.complex_callable\n",
    "def neumann_trace(point, n, domain_index, result):\n",
    "    value = np.cross(direction, polarization) * 1j * k0 * np.exp(1j * k0 * np.dot(point, direction))\n",
    "    result[:] =  1./ (1j * k0) * np.cross(value, n)\n",
    "    \n",
    "        \n",
    "rhs = [bempp.api.GridFunction(rA[1], dual_space = tA[1], fun=tangential_trace),\n",
    "      bempp.api.GridFunction(rA[1], dual_space = tA[1], fun=neumann_trace)]\n"
   ]
  },
  {
   "cell_type": "code",
   "execution_count": 7,
   "id": "b0ba4c98",
   "metadata": {},
   "outputs": [
    {
     "name": "stderr",
     "output_type": "stream",
     "text": [
      "bempp:HOST:INFO: OpenCL CPU Device set to: pthread-AMD EPYC 7302 16-Core Processor\n"
     ]
    }
   ],
   "source": [
    "A = bempp.api.as_matrix(lhs_op.weak_form())\n",
    "b = bempp.api.assembly.blocked_operator.projections_from_grid_functions_list(rhs, lhs_op.dual_to_range_spaces)\n",
    "x = np.linalg.solve(A, b)\n",
    "sol = bempp.api.assembly.blocked_operator.grid_function_list_from_coefficients(x.ravel(), lhs_op.domain_spaces)"
   ]
  },
  {
   "cell_type": "code",
   "execution_count": 10,
   "id": "63e170bf",
   "metadata": {},
   "outputs": [],
   "source": [
    "far_field_points = config['far_field_points']\n",
    "electric_far = bempp.api.operators.far_field.maxwell.electric_field(sol[1].space, far_field_points, k0)\n",
    "magnetic_far = bempp.api.operators.far_field.maxwell.magnetic_field(sol[0].space, far_field_points, k0)    \n",
    "far_field = - electric_far * sol[1] - magnetic_far * sol[0]"
   ]
  },
  {
   "cell_type": "code",
   "execution_count": 11,
   "id": "a671a937",
   "metadata": {},
   "outputs": [
    {
     "data": {
      "image/png": "[encoded data removed]",
      "text/plain": [
       "<Figure size 432x432 with 1 Axes>"
      ]
     },
     "metadata": {
      "needs_background": "light"
     },
     "output_type": "display_data"
    }
   ],
   "source": [
    "angles = config['angles']\n",
    "\n",
    "fig, ax  = plt.subplots(1,1, figsize=(6,6))\n",
    "plt.rcParams['figure.figsize'] = (15, 4) # Increase the figure size in the notebook\n",
    "\n",
    "A22 = far_field[2,:]\n",
    "uh = 10 * np.log10(4 * np.pi * np.abs(A22[:1801]))\n",
    "u =  10 * np.log10(4 * np.pi * np.abs(s1 / (-1j * k_ext) ))\n",
    "# -1j * kExt is to make agree with eqn 3.21 p70 tBohren and Huffman\n",
    "\n",
    "ax.plot(angles[:1801], uh, '-r', label='BEM')\n",
    "ax.plot(angles[:1801], u, 'b', label='MIE', linestyle=(0, (5, 5)))\n",
    "\n",
    "ax.set_xlabel(r\"$\\theta$ (rad)\", fontsize=15)\n",
    "ax.set_ylabel(r\"$\\mathrm{RCS}_z(\\theta)$\", fontsize=15)\n",
    "\n",
    "ymin, ymax = uh.min() - 1, uh.max() + 1\n",
    "ax.legend(prop={'size': 14})\n",
    "ax.grid()\n",
    "plt.xlim(-0.1, np.pi + 0.1)\n",
    "plt.ylim(ymin, ymax)\n",
    "#plt.savefig(\"plots/RCSSphere.pdf\")\n",
    "plt.show()"
   ]
  }
 ],
 "metadata": {
  "kernelspec": {
   "display_name": "Python 3 (ipykernel)",
   "language": "python",
   "name": "python3"
  },
  "language_info": {
   "codemirror_mode": {
    "name": "ipython",
    "version": 3
   },
   "file_extension": ".py",
   "mimetype": "text/x-python",
   "name": "python",
   "nbconvert_exporter": "python",
   "pygments_lexer": "ipython3",
   "version": "3.9.7"
  }
 },
 "nbformat": 4,
 "nbformat_minor": 5
}
