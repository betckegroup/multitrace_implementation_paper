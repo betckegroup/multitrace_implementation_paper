{
 "cells": [
  {
   "cell_type": "code",
   "execution_count": 1,
   "id": "dfc8a76d",
   "metadata": {},
   "outputs": [
    {
     "name": "stdout",
     "output_type": "stream",
     "text": [
      "3.141592653589793 : h\n"
     ]
    },
    {
     "name": "stderr",
     "output_type": "stream",
     "text": [
      "bempp:HOST:INFO: Created grid with id 61677e53-df72-455c-917a-854996c5bfc2. Elements: 40. Edges: 60. Vertices: 22\n",
      "bempp:HOST:INFO: OpenCL CPU Device set to: pthread-AMD EPYC 7302 16-Core Processor\n"
     ]
    },
    {
     "name": "stdout",
     "output_type": "stream",
     "text": [
      "assembling efie_wf\n",
      "0.06826043128967285 ta efie_wf\n",
      "assembling efie_M\n",
      "6.937980651855469e-05 ta efie_M\n",
      "assembling mte_wf\n",
      "19.14492130279541 ta mte_wf\n"
     ]
    }
   ],
   "source": [
    "import bempp.api \n",
    "import time\n",
    "import numpy as np\n",
    "from bempp.api.operators.boundary.sparse import identity\n",
    "from bempp.api.assembly.blocked_operator import BlockedOperator, GeneralizedBlockedOperator\n",
    "\n",
    "bempp.api.enable_console_logging()\n",
    "k = 2\n",
    "precision = 1\n",
    "\n",
    "h = 2 * np.pi/(precision*k)\n",
    "print(h, ': h')\n",
    "\n",
    "grid = bempp.api.shapes.sphere(h=h)\n",
    "rwg = bempp.api.function_space(grid, 'RWG', 0)\n",
    "rwg = bempp.api.function_space(grid, 'RWG', 0)\n",
    "snc = bempp.api.function_space(grid, 'SNC', 0)\n",
    "p1d = bempp.api.function_space(grid, 'DP', 1)\n",
    "\n",
    "def incident_field(x):\n",
    "    return np.array([np.exp(1j * k * x[2]), 0. * x[2], 0. * x[2]])\n",
    "\n",
    "@bempp.api.complex_callable\n",
    "def tangential_trace(x, n, domain_index, result):\n",
    "    incident_field = np.array([np.exp(1j * k * x[2]), 0. * x[2], 0. * x[2]])\n",
    "    result[:] = np.cross(incident_field, n)\n",
    "\n",
    "trace_fun = bempp.api.GridFunction(rwg, fun=tangential_trace, dual_space=snc)\n",
    "trace_fun_proj = trace_fun.projections()\n",
    "\n",
    "print('assembling efie_wf')\n",
    "ta = time.time()\n",
    "efie = bempp.api.operators.boundary.maxwell.electric_field(rwg,rwg,snc,k)\n",
    "efie_wf = efie.weak_form()\n",
    "print(time.time()- ta, 'ta efie_wf')\n",
    "\n",
    "print('assembling efie_M')\n",
    "ta = time.time()\n",
    "efie_M = bempp.api.as_matrix(efie_wf)\n",
    "print(time.time()- ta, 'ta efie_M')\n",
    "\n",
    "print('assembling mte_wf')\n",
    "ta = time.time()\n",
    "mte = bempp.api.operators.boundary.maxwell.osrc_mte( [snc,p1d],  [snc, p1d],  [snc, p1d], k)\n",
    "mte_wf = mte._assemble()\n",
    "print(time.time()- ta, 'ta mte_wf')"
   ]
  },
  {
   "cell_type": "code",
   "execution_count": 2,
   "id": "27883a6a",
   "metadata": {},
   "outputs": [],
   "source": [
    "from bempp.api.assembly.boundary_operator import BoundaryOperator\n",
    "from bempp.api.operators.boundary.maxwell import osrc_mte"
   ]
  },
  {
   "cell_type": "code",
   "execution_count": 3,
   "id": "5e1e1f3a",
   "metadata": {},
   "outputs": [
    {
     "data": {
      "text/plain": [
       "[<bempp.api.space.space.FunctionSpace at 0x7f542be58280>,\n",
       " <bempp.api.space.space.FunctionSpace at 0x7f53c844a880>]"
      ]
     },
     "execution_count": 3,
     "metadata": {},
     "output_type": "execute_result"
    }
   ],
   "source": [
    "mte.domains_"
   ]
  },
  {
   "cell_type": "code",
   "execution_count": 4,
   "id": "a06033b3",
   "metadata": {},
   "outputs": [
    {
     "data": {
      "text/plain": [
       "<bempp.api.space.space.FunctionSpace at 0x7f542be58280>"
      ]
     },
     "execution_count": 4,
     "metadata": {},
     "output_type": "execute_result"
    }
   ],
   "source": [
    "mte.domains_[0]"
   ]
  },
  {
   "cell_type": "code",
   "execution_count": 5,
   "id": "f7808d22",
   "metadata": {},
   "outputs": [],
   "source": [
    "class osrcMtE(BoundaryOperator):\n",
    "    def __init__(self, wf, domain, range_, dual_to_range):\n",
    "        self.wf = wf\n",
    "        self._domain = domain\n",
    "        self._range = range_\n",
    "        self._dual_to_range = dual_to_range\n",
    "        \n",
    "    def weak_form(self):\n",
    "        return self.wf\n",
    "    "
   ]
  },
  {
   "cell_type": "code",
   "execution_count": 6,
   "id": "3d5436f0",
   "metadata": {},
   "outputs": [],
   "source": [
    "wave_number = 1"
   ]
  },
  {
   "cell_type": "code",
   "execution_count": 9,
   "id": "d2e6ee3f",
   "metadata": {},
   "outputs": [],
   "source": [
    "rwg = bempp.api.function_space(grid, 'RWG', 0)\n",
    "snc = bempp.api.function_space(grid, 'SNC', 0)\n",
    "p1d = bempp.api.function_space(grid, 'DP', 1)\n",
    "mte = bempp.api.operators.boundary.maxwell.osrc_mte( [snc,p1d],  [snc, p1d],  [snc, p1d], wave_number)\n",
    "wf = mte._assemble()\n",
    "\n",
    "operator = osrcMtE(wf, rwg, rwg, snc)"
   ]
  },
  {
   "cell_type": "code",
   "execution_count": 11,
   "id": "84bbc01b",
   "metadata": {},
   "outputs": [],
   "source": [
    "def osrc_MtE(grid, wave_number):\n",
    "    rwg = bempp.api.function_space(grid, 'RWG', 0)\n",
    "    snc = bempp.api.function_space(grid, 'SNC', 0)\n",
    "    p1d = bempp.api.function_space(grid, 'DP', 1)\n",
    "    mte = bempp.api.operators.boundary.maxwell.osrc_mte( [snc,p1d],  [snc, p1d],  [snc, p1d], wave_number)\n",
    "    wf = mte._assemble()\n",
    "    return osrcMtE(wf, rwg, rwg, snc)"
   ]
  },
  {
   "cell_type": "code",
   "execution_count": 12,
   "id": "fb63f576",
   "metadata": {},
   "outputs": [],
   "source": [
    "A1 = osrc_MtE(grid, 1)\n",
    "A2 = osrc_MtE(grid, 2)"
   ]
  },
  {
   "cell_type": "code",
   "execution_count": 25,
   "id": "04aa4cd0",
   "metadata": {},
   "outputs": [
    {
     "data": {
      "text/plain": [
       "array([ 0.43612272 -2.11728801j, -1.24464736 -3.45688537j,\n",
       "        4.41345917 +2.31395916j,  1.47836191 -4.59889194j,\n",
       "        5.54677512 +6.39608038j,  0.47667948 -3.87684502j,\n",
       "        1.09260941 -4.74349712j,  1.70242455 -5.85552826j,\n",
       "        2.50245512 -3.07602295j,  4.25326357 -2.65527833j,\n",
       "        1.91454632 +4.21139225j,  4.5823943  +1.46111975j,\n",
       "       -2.31430832 +1.26341464j,  0.74111911 -6.61626449j,\n",
       "        1.78386494 +5.92120772j, -0.61789421 -1.24365078j,\n",
       "        4.3836837  +6.897575j  ,  2.5102378  -5.11067146j,\n",
       "       -1.28607115 -5.70456521j,  2.15218006 -4.54374399j,\n",
       "        5.10379466 -0.29000882j,  4.56481691 +0.84663407j,\n",
       "       -4.29347783 -4.58778984j,  3.16478855 -2.51206445j,\n",
       "        0.58992179 +4.23467448j, -0.26512953 +0.15723728j,\n",
       "        3.13308314 +2.10014607j,  2.368112   -3.48892576j,\n",
       "        2.92958252 -2.86138659j,  1.98139426 -4.76194185j,\n",
       "        7.42262667 +2.50586446j,  5.82371893 -0.24706661j,\n",
       "        6.18223347 -1.03352957j, -5.13426348 -2.10678878j,\n",
       "        3.52764537 +1.02193681j, -0.41704695 +0.08135644j,\n",
       "        5.48943262 -0.37443052j, -1.07967168 -6.78085538j,\n",
       "        1.53115283 -5.49175233j,  2.03015727 +0.02887594j,\n",
       "        2.25939035 -1.74573186j,  5.75053222 +0.33987081j,\n",
       "        2.59203084 -3.22539656j, -1.48771565 +1.99848178j,\n",
       "       -0.56492959 -0.96350926j,  2.73541096 -2.78465634j,\n",
       "        2.34940169 +0.52721426j,  0.14047755 +1.32405336j,\n",
       "        3.26154865 +0.69264765j, -0.12438175 -4.75832585j,\n",
       "        0.36580231 +0.9493417j ,  0.50450027 -0.40871916j,\n",
       "        0.32716043 -0.09297058j,  2.17394045 -3.41219551j,\n",
       "        5.07328947 -1.52097356j, -2.13632731 +2.48191158j,\n",
       "        2.64867099 -3.09593386j,  2.05553549 +0.96575935j,\n",
       "        2.365486   -3.25766925j,  1.0655335  -1.40594842j,\n",
       "        2.11794465 -3.07298236j,  1.41315309 -4.26544467j,\n",
       "        3.27624669 +6.08998686j,  4.29622645 +1.68248907j,\n",
       "        5.10907871 +3.01162249j,  4.71829657 -1.95925248j,\n",
       "        4.15846296 -1.81136941j,  7.12731314 +0.92873625j,\n",
       "        6.08772592 +1.94650015j,  8.80440222 +7.77541296j,\n",
       "        0.718101   -3.0285164j ,  6.69082305 +1.0367337j ,\n",
       "       -3.6334967 -11.89657613j,  6.12722098 +3.1057743j ,\n",
       "       -2.45127795 -2.92682727j, -0.81525459 -3.64150611j,\n",
       "        2.96412249 +0.79806745j,  8.42629672 +0.7782972j ,\n",
       "        2.99787781 -5.66150511j,  7.19446079 -0.4653091j ,\n",
       "        8.33483006 +4.28672344j,  7.29862513 +1.52390006j,\n",
       "       -1.71652971-16.14006885j,  4.58416206 +9.83514955j,\n",
       "       -0.93430699 -7.87517181j, -0.50945434 -4.73492251j,\n",
       "        3.26010562 +0.22556906j,  6.1936436  -0.14168199j,\n",
       "        5.78858327 +2.45459383j,  6.13198513 -0.42657497j,\n",
       "        9.21307402 +9.82314171j,  9.13406126 +6.47149819j,\n",
       "       10.54414827 +8.09135023j, -6.12785827-11.25915361j,\n",
       "        3.85878211 +2.86807377j, -1.70254004 -3.91485709j,\n",
       "       10.38322626 +7.66288727j,  4.43516612 -4.32435279j,\n",
       "        7.06391768 -0.12264351j,  1.90423758 +0.31946844j,\n",
       "        6.30393924 -0.21565747j,  9.23893331 +4.23011422j,\n",
       "        6.68469617 +2.23134452j, -4.20842554 -5.62516174j,\n",
       "        0.91616287 -7.76169512j,  5.93088172 +2.91848819j,\n",
       "        3.36576726 +2.37297662j, -1.94547247 -2.32842911j,\n",
       "        5.17973501 +2.84580354j,  4.27229115 -2.02571907j,\n",
       "       -0.47326987 -4.49666609j,  1.47336444 -1.39707186j,\n",
       "        1.35424958 -4.66944832j,  6.33594205 +0.32221238j,\n",
       "        7.91256154+10.08064529j, -5.05548318 -7.03607266j,\n",
       "        7.00229403 +2.88247903j,  1.57369656 +2.31119854j,\n",
       "        7.39590371 -0.9392042j ,  3.44691237 -0.20266249j])"
      ]
     },
     "execution_count": 25,
     "metadata": {},
     "output_type": "execute_result"
    }
   ],
   "source": [
    "#multitrace_ops.append(bempp.api.GeneralizedBlockedOperator([[mfie, eta * efie],[- 1/eta * efie, mfie]]))\n",
    "\n",
    "op = bempp.api.BlockedOperator(2,2)\n",
    "\n",
    "op[0,0] = A1\n",
    "op[1,1] = A2\n",
    "\n",
    "opwf = op.weak_form()\n",
    "opwf.matvec(np.ones(opwf.shape[1]))\n"
   ]
  }
 ],
 "metadata": {
  "kernelspec": {
   "display_name": "Python 3 (ipykernel)",
   "language": "python",
   "name": "python3"
  },
  "language_info": {
   "codemirror_mode": {
    "name": "ipython",
    "version": 3
   },
   "file_extension": ".py",
   "mimetype": "text/x-python",
   "name": "python",
   "nbconvert_exporter": "python",
   "pygments_lexer": "ipython3",
   "version": "3.9.7"
  }
 },
 "nbformat": 4,
 "nbformat_minor": 5
}
