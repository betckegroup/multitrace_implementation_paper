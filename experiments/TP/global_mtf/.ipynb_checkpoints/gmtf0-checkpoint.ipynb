{
 "cells": [
  {
   "cell_type": "code",
   "execution_count": 34,
   "id": "7a5a63fe-2f21-4e02-9d27-bf23794b5948",
   "metadata": {},
   "outputs": [
    {
     "name": "stderr",
     "output_type": "stream",
     "text": [
      "bempp:HOST:INFO: Created grid with id ff67810c-7dbc-40e5-88ed-3e016b98657d. Elements: 56. Edges: 80. Vertices: 27\n",
      "bempp:HOST:WARNING: Setting include_boundary_dofs has no effect on this space type.\n",
      "bempp:HOST:WARNING: Setting include_boundary_dofs has no effect on this space type.\n",
      "/usr/local/lib/python3.10/dist-packages/pyopencl/cache.py:495: CompilerWarning: Non-empty compiler output encountered. Set the environment variable PYOPENCL_COMPILER_OUTPUT=1 to see more.\n",
      "  _create_built_program_from_source_cached(\n",
      "/usr/local/lib/python3.10/dist-packages/pyopencl/cache.py:499: CompilerWarning: Non-empty compiler output encountered. Set the environment variable PYOPENCL_COMPILER_OUTPUT=1 to see more.\n",
      "  prg.build(options_bytes, devices)\n"
     ]
    },
    {
     "name": "stdout",
     "output_type": "stream",
     "text": [
      "The exterior wavenumber is: 5.0\n",
      "The interior wavenumber is: 6.892024376045111\n",
      "----\n",
      "The exterior wavelenght is: 1.2566370614359172\n",
      "The exterior frequency is: 2.39E+8\n",
      "\n",
      "0.12566370614359174 : h\n",
      "10 : precision\n",
      "160 : N\n"
     ]
    }
   ],
   "source": [
    "#Je reviens à quelque chose de beaucoup plus simple. On va prouver que l'on obtient le bon FF pour STF classique. \n",
    "#Travaillons en mode dense, facile.\n",
    "# This first version is for the classical STF. \n",
    "# Now, try to get to the domain-based STF...\n",
    "\n",
    "import bempp.api \n",
    "import numpy as np\n",
    "import mtf\n",
    "\n",
    "from bempp.api.operators.boundary.sparse import identity\n",
    "from bempp.api.assembly.blocked_operator import BlockedOperator, GeneralizedBlockedOperator\n",
    "\n",
    "from mtf.utils import bhmie\n",
    "from mtf.config import config\n",
    "from mtf.functions import define_bempp_functions\n",
    "from mtf.assembly.operators import GeneralizedBlockedOperator\n",
    "\n",
    "from matplotlib import pyplot as plt\n",
    "from decimal import Decimal\n",
    "from bempp.api import ZeroBoundaryOperator\n",
    "\n",
    "bempp.api.enable_console_logging()\n",
    "M = 3\n",
    "\n",
    "mtf.config.set_case(\"B\")\n",
    "\n",
    "tangential_trace, neumann_trace = define_bempp_functions(config)\n",
    "\n",
    "k0, k1 = config[\"k_ext\"], config[\"k_int\"]\n",
    "lambda_par, freq = config[\"lambda\"], config[\"frequency\"]\n",
    "\n",
    "polarization = config[\"polarization\"]\n",
    "direction = config[\"direction\"]\n",
    "\n",
    "eps_rel = config[\"eps_rel\"]\n",
    "mu_rel = config[\"mu_rel\"]\n",
    "mu0 = config[\"mu_ext\"]\n",
    "mu1 = mu_rel * mu0\n",
    "\n",
    "eta_rel = np.sqrt(mu_rel / eps_rel)\n",
    "\n",
    "print(\"The exterior wavenumber is: {0}\".format(k0))\n",
    "print(\"The interior wavenumber is: {0}\".format(k1))\n",
    "\n",
    "print(\"----\")\n",
    "print(\"The exterior wavelenght is: {0}\".format(lambda_par))\n",
    "print(\"The exterior frequency is: {:.2E}\".format(Decimal(freq)))\n",
    "\n",
    "# To do: Go to the multi-domain STF...\n",
    "if M == 2:\n",
    "  segments = [[10,20]]\n",
    "  swapped_normals = [[]]\n",
    "    \n",
    "elif M == 3:\n",
    "  segments = [[10, 12], [20, 12]]\n",
    "  swapped_normals = [[], [12]]\n",
    "\n",
    "k_int, k_ext = config[\"k_int\"], config[\"k_ext\"]\n",
    "\n",
    "n = k_int / k_ext\n",
    "refIndex = n\n",
    "numAngles = 901\n",
    "s1, s2, qext, qsca, qback, gsca = bhmie(k_ext, k_int / k_ext, numAngles)\n",
    "angles = config['angles']\n",
    "\n",
    "k_list = []\n",
    "eta_rel_list = []\n",
    "mu_list = []\n",
    "\n",
    "for index in range(M-1):\n",
    "  k_list.append(k1)\n",
    "  mu_list.append(mu1)\n",
    "  eta_rel_list.append(eta_rel)\n",
    "\n",
    "precision = 10\n",
    "\n",
    "h = 2 * np.pi/(precision*k0)\n",
    "grid = bempp.api.shapes.multitrace_sphere(h=1)\n",
    "\n",
    "print(h, ': h')\n",
    "print(precision, ': precision')\n",
    "print(grid.number_of_edges * 2, ': N')\n",
    "\n",
    "\n",
    "dA = [bempp.api.function_space(grid, \"RWG\", 0, segments=seg, swapped_normals=normals,\n",
    "                                      include_boundary_dofs=True)\n",
    "              for seg, normals in zip(segments, swapped_normals)]\n",
    "\n",
    "p1dA = [bempp.api.function_space(grid, \"DP\", 1, segments=seg, swapped_normals=normals,\n",
    "                                      include_boundary_dofs=True)\n",
    "              for seg, normals in zip(segments, swapped_normals)]\n",
    "\n",
    "rA = [bempp.api.function_space(grid, \"RWG\", 0, segments=seg, swapped_normals=normals,\n",
    "                                      include_boundary_dofs=True)\n",
    "              for seg, normals in zip(segments, swapped_normals)]\n",
    "tA = [bempp.api.function_space(grid, \"SNC\", 0, segments=seg, swapped_normals=normals,\n",
    "                                      include_boundary_dofs=True)\n",
    "              for seg, normals in zip(segments, swapped_normals)]\n",
    "\n",
    "multitrace_ops = []\n",
    "multitrace_ops0 = []\n",
    "# > Assemble all diagonal operators\n",
    "for index in range(M-1):\n",
    "  k = k_list[index]\n",
    "  mu = mu_list[index]\n",
    "  eta = eta_rel_list[index]\n",
    "  efie = bempp.api.operators.boundary.maxwell.electric_field(dA[index], rA[index], tA[index], k)\n",
    "  mfie = bempp.api.operators.boundary.maxwell.magnetic_field(dA[index], rA[index], tA[index], k)\n",
    "  multitrace_ops.append(GeneralizedBlockedOperator([[mfie, eta * efie],[-1/eta * efie, mfie]]))\n",
    "\n",
    "  efie0 = bempp.api.operators.boundary.maxwell.electric_field(dA[index], rA[index], tA[index], k0)\n",
    "  mfie0 = bempp.api.operators.boundary.maxwell.magnetic_field(dA[index], rA[index], tA[index], k0)\n",
    "  multitrace_ops0.append(GeneralizedBlockedOperator([[mfie0, efie0],[-efie0, mfie0]]))\n",
    "\n",
    "# Define the final operator\n",
    "block_system = [(M-1) * [None] for _ in range(M-1)]\n",
    "\n",
    "for i in range(M-1):\n",
    "  for j in range(M-1):\n",
    "    if i == j:\n",
    "      block_system[i][j] = (multitrace_ops[i] + multitrace_ops0[i])\n",
    "    else:\n",
    "      efie0 = bempp.api.operators.boundary.maxwell.electric_field(dA[j], rA[i], tA[i], k0)\n",
    "      mfie0 = bempp.api.operators.boundary.maxwell.magnetic_field(dA[j], rA[i], tA[i], k0)\n",
    "      block_system[i][j]= GeneralizedBlockedOperator([[mfie0, efie0],[-efie0, mfie0]])\n",
    "            \n",
    "lhs_op = GeneralizedBlockedOperator(block_system)\n",
    "op_wf = lhs_op.weak_form()\n",
    "\n"
   ]
  },
  {
   "cell_type": "code",
   "execution_count": 47,
   "id": "1bacf195-f010-4f0f-a938-1e6ffcd018c7",
   "metadata": {},
   "outputs": [
    {
     "name": "stdout",
     "output_type": "stream",
     "text": [
      "0.7026975347181829\n"
     ]
    }
   ],
   "source": [
    "rhs = []\n",
    "for i in range(M-1):\n",
    "    temp = [bempp.api.GridFunction(rA[i], dual_space = tA[i], fun=tangential_trace),\n",
    "      bempp.api.GridFunction(rA[i], dual_space = tA[i], fun=neumann_trace)]\n",
    "\n",
    "    my_b = [bempp.api.GridFunction(dA[i], dual_space = rA[i], fun=tangential_trace),\n",
    "       bempp.api.GridFunction(dA[i], dual_space = rA[i], fun=neumann_trace)]\n",
    "\n",
    "    temp2 = multitrace_ops0[i] * my_b\n",
    "    rhs += [temp[0] + temp2[0], temp[1] + temp2[1]]\n",
    "\n",
    "print(np.linalg.norm(temp2[0].projections()))"
   ]
  },
  {
   "cell_type": "code",
   "execution_count": 51,
   "id": "c8756398-cf43-40a7-a5e7-b2c3ca6b3d51",
   "metadata": {},
   "outputs": [],
   "source": [
    "b = bempp.api.assembly.blocked_operator.projections_from_grid_functions_list(rhs, lhs_op.dual_to_range_spaces)\n",
    "N = b.shape[0]\n",
    "A = bempp.api.as_matrix(op_wf)\n",
    "x = np.linalg.solve(A, b)\n",
    "\n",
    "sol = bempp.api.assembly.blocked_operator.grid_function_list_from_coefficients(x.ravel(), lhs_op.domain_spaces)"
   ]
  },
  {
   "cell_type": "code",
   "execution_count": 52,
   "id": "caec3532-48f5-4a1c-b6e9-8b7fe792cd75",
   "metadata": {},
   "outputs": [
    {
     "name": "stdout",
     "output_type": "stream",
     "text": [
      "(-1.7097037896614604-0.2502957016908335j) (1.852184027729731-0.41753705815576003j)\n"
     ]
    }
   ],
   "source": [
    "print(x.min(), x.max())"
   ]
  },
  {
   "cell_type": "code",
   "execution_count": 54,
   "id": "49198cfe-075a-41ff-916b-ab05139ae06b",
   "metadata": {
    "scrolled": true
   },
   "outputs": [
    {
     "name": "stdout",
     "output_type": "stream",
     "text": [
      "0.5043658606633763\n"
     ]
    },
    {
     "data": {
      "image/png": "[encoded data removed]",
      "text/plain": [
       "<Figure size 600x600 with 1 Axes>"
      ]
     },
     "metadata": {},
     "output_type": "display_data"
    }
   ],
   "source": [
    "far_field_points = config['far_field_points']\n",
    "\n",
    "far_field = np.zeros((3, far_field_points.shape[1]), dtype=np.complex128)\n",
    "\n",
    "for i in range(M-1):\n",
    "    electric_far = bempp.api.operators.far_field.maxwell.electric_field(sol[2*i + 1].space, far_field_points, k0)\n",
    "    magnetic_far = bempp.api.operators.far_field.maxwell.magnetic_field(sol[2*i].space, far_field_points, k0)\n",
    "    far_field +=  - electric_far * sol[2*i+1] - magnetic_far * sol[2*i]\n",
    "    \n",
    "A22 = far_field[2,:]\n",
    "uh = 10 * np.log10(4 * np.pi * np.abs(A22[:1801]))\n",
    "u =  10 * np.log10(4 * np.pi * np.abs(s1 / (-1j * k_ext) ))\n",
    "rel_error = np.linalg.norm(uh - u) / np.linalg.norm(u)\n",
    "\n",
    "print(rel_error)\n",
    "\n",
    "angles = config['angles']\n",
    "\n",
    "fig, ax  = plt.subplots(1,1, figsize=(6,6))\n",
    "plt.rcParams['figure.figsize'] = (15, 4) # Increase the figure size in the notebook\n",
    "\n",
    "A22 = far_field[2,:]\n",
    "uh = 10 * np.log10(4 * np.pi * np.abs(A22[:1801]))\n",
    "u =  10 * np.log10(4 * np.pi * np.abs(s1 / (-1j * k_ext) ))\n",
    "# -1j * kExt is to make agree with eqn 3.21 p70 tBohren and Huffman\n",
    "\n",
    "ax.plot(angles[:1801], uh, '-r', label='BEM')\n",
    "ax.plot(angles[:1801], u, 'b', label='MIE', linestyle=(0, (5, 5)))\n",
    "\n",
    "ax.set_xlabel(r\"$\\theta$ (rad)\", fontsize=15)\n",
    "ax.set_ylabel(r\"$\\mathrm{RCS}_z(\\theta)$\", fontsize=15)\n",
    "\n",
    "ymin, ymax = uh.min() - 1, uh.max() + 1\n",
    "ax.legend(prop={'size': 14})\n",
    "ax.grid()\n",
    "plt.xlim(-0.1, np.pi + 0.1)\n",
    "#plt.ylim(ymin, ymax)\n",
    "#plt.savefig(\"plots/RCSSphere.pdf\")\n",
    "plt.show()"
   ]
  },
  {
   "cell_type": "code",
   "execution_count": null,
   "id": "e1a55be9-d310-4a49-8426-aca056eba5de",
   "metadata": {},
   "outputs": [],
   "source": []
  }
 ],
 "metadata": {
  "kernelspec": {
   "display_name": "Python 3 (ipykernel)",
   "language": "python",
   "name": "python3"
  },
  "language_info": {
   "codemirror_mode": {
    "name": "ipython",
    "version": 3
   },
   "file_extension": ".py",
   "mimetype": "text/x-python",
   "name": "python",
   "nbconvert_exporter": "python",
   "pygments_lexer": "ipython3",
   "version": "3.10.12"
  }
 },
 "nbformat": 4,
 "nbformat_minor": 5
}
