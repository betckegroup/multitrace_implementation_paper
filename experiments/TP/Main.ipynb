{
 "cells": [
  {
   "cell_type": "markdown",
   "id": "2c1d6413",
   "metadata": {},
   "source": [
    "# \n",
    "A travel towards a MTF code\n",
    "\n",
    "We start the journey by comparing different types of multitrace_operator scalings.\n",
    "\n",
    "\n",
    "In Compare_Operators.ipynb, we conclude that the best scaling is with $\\eta$. We will use this formulation.\n",
    "\n",
    "Next, in TP.ipynb, we verify that the FF for the STF, total field, dense mode, is converging.\n",
    "\n",
    "We simplified the code as much as possible.\n",
    "\n",
    "Next, we plot the $h$-analysis in TP-h.ipynb.\n",
    "\n",
    "The for loop is not implemented. We use TP-h as a TP-1. The aim of TP-1 is to add the OSRC.\n",
    "\n",
    "OK, we added the OSRC layer to TP-1. Now, TP-2 with FMM.\n",
    "\n",
    "Ok for TP-2.\n",
    "Now applying the osrc preconditioner to MTF. However, the GeneralizedBlockOperators are not working fine. \n",
    "Trying to find a proper way to make this work.\n",
    "\n",
    "\n",
    "TP-3 not succesfull, as is with errors... Try to include the defs of matvec directly?\n",
    "\n",
    "Issue with creating a GeneralizedBlockedOperator with BlockOperator osrc.\n",
    "\n",
    "I really have to get to it. \n",
    "\n",
    "Got back to TP-2.\n",
    "\n",
    "Big question: Why is it working with TP-2 and block?!\n",
    "\n",
    "Get to clean eveything as a TP-4.\n",
    "\n",
    "I am not with TP-4 which sounds to be ok for the TP. \n",
    "I passed this script to main.py. \n",
    "\n",
    "Now trying to add the M=3 layer directly in TP-4.\n",
    "\n",
    "- ki\n",
    "- Assembler\n",
    "- what do we do wit the MTF, as OSRC is mapping other spaces...\n",
    "\n",
    "Dejé la cagá con el 4 al querer trabajar con M=3. Sounds like the issue with general operator was to precondition for the MTF.\n",
    "Try first to get the convergent MTF for M=2 in dense mode. And then we'll se. This is work in progress in TP-5.\n",
    "\n",
    "stf2 is now the final MTF code! \n",
    "\n",
    "Trying to understand how to implement the STF. But, first, it would be interesting to get what has to be changed to support osrc-based preconditioning."
   ]
  },
  {
   "cell_type": "markdown",
   "id": "1f9c347b-5f00-47c7-8e6d-c2a19abdca9c",
   "metadata": {},
   "source": [
    "## June, 19th: \n",
    "### section1:\n",
    "\n",
    "stf2: Semble ce que je veux pour le STF M=2 \n",
    "stf3: Ce que je veux pour le MTF M=2 et M=3\n",
    "\n",
    "mtf0: MTF fonctionnant mais pour osrc.\n",
    "mtf1: M=3 et osrc\n",
    "\n",
    "Sur le main0 j'ai fait le travail nécéssaire pour avoir un main général dense pour mtf(2), mtf(3) et stf. On dirait que stf(3) pourrait être jouable avec un peu de travail. Créer un nouveau dossier pour cela.\n",
    "\n"
   ]
  },
  {
   "cell_type": "code",
   "execution_count": null,
   "id": "8e7c8587-dfb6-43bb-a334-0b9b2b244ab2",
   "metadata": {},
   "outputs": [],
   "source": []
  }
 ],
 "metadata": {
  "kernelspec": {
   "display_name": "Python 3 (ipykernel)",
   "language": "python",
   "name": "python3"
  },
  "language_info": {
   "codemirror_mode": {
    "name": "ipython",
    "version": 3
   },
   "file_extension": ".py",
   "mimetype": "text/x-python",
   "name": "python",
   "nbconvert_exporter": "python",
   "pygments_lexer": "ipython3",
   "version": "3.10.12"
  }
 },
 "nbformat": 4,
 "nbformat_minor": 5
}
