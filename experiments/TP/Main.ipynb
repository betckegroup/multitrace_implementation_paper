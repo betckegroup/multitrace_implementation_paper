{
 "cells": [
  {
   "cell_type": "markdown",
   "id": "2c1d6413",
   "metadata": {},
   "source": [
    "# A travel towards a MTF code\n",
    "\n",
    "We start the journey by comparing different types of multitrace_operator scalings.\n",
    "\n",
    "\n",
    "In Compare_Operators.ipynb, we conclude that the best scaling is with $\\eta$. We will use this formulation.\n",
    "\n",
    "Next, in TP.ipynb, we verify that the FF for the STF, total field, dense mode, is converging.\n",
    "\n",
    "We simplified the code as much as possible.\n",
    "\n",
    "Next, we plot the $h$-analysis in TP-h.ipynb.\n",
    "\n",
    "The for loop is not implemented. We use TP-h as a TP-1. The aim of TP-1 is to add the OSRC.\n",
    "\n",
    "OK, we added the OSRC layer to TP-1. Now, TP-2 with FMM.\n",
    "\n",
    "Ok for TP-2.\n",
    "Now applying the osrc preconditioner to MTF. However, the GeneralizedBlockOperators are not working fine. \n",
    "Trying to find a proper way to make this work.\n",
    "\n",
    "\n",
    "TP-3 not succesfull, as is with errors... Try to include the defs of matvec directly?\n",
    "\n",
    "Issue with creating a GeneralizedBlockedOperator with BlockOperator osrc.\n",
    "\n",
    "I really have to get to it. \n",
    "\n",
    "Got back to TP-2.\n",
    "\n",
    "Big question: Why is it working with TP-2 and block?!\n",
    "\n",
    "Get to clean eveything as a TP-4.\n",
    "\n",
    "I am not with TP-4 which sounds to be ok for the TP. \n",
    "Now trying to add the M=3 layer.\n",
    "\n",
    "- ki\n",
    "- Assembler\n",
    "- what do we do wit the MTF, as OSRC is mapping other spaces..."
   ]
  },
  {
   "cell_type": "code",
   "execution_count": null,
   "id": "6fa2d93a",
   "metadata": {},
   "outputs": [],
   "source": [
    "\n"
   ]
  }
 ],
 "metadata": {
  "kernelspec": {
   "display_name": "Python 3 (ipykernel)",
   "language": "python",
   "name": "python3"
  },
  "language_info": {
   "codemirror_mode": {
    "name": "ipython",
    "version": 3
   },
   "file_extension": ".py",
   "mimetype": "text/x-python",
   "name": "python",
   "nbconvert_exporter": "python",
   "pygments_lexer": "ipython3",
   "version": "3.10.12"
  }
 },
 "nbformat": 4,
 "nbformat_minor": 5
}
