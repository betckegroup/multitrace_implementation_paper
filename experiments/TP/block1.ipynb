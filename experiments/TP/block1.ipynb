{
 "cells": [
  {
   "cell_type": "code",
   "execution_count": 1,
   "id": "b3afa1d4-1f43-448c-a75c-425803b1f2af",
   "metadata": {},
   "outputs": [
    {
     "name": "stdout",
     "output_type": "stream",
     "text": [
      "The exterior wavenumber is: 1\n",
      "The interior wavenumber is: 1\n",
      "----\n",
      "The exterior wavelenght is: 1.2566370614359172\n",
      "The exterior frequency is: 2.39E+8\n",
      "\n"
     ]
    },
    {
     "name": "stderr",
     "output_type": "stream",
     "text": [
      "bempp:HOST:INFO: Created grid with id 5185e843-773b-440d-b1f8-b0376d22d323. Elements: 56. Edges: 80. Vertices: 27\n"
     ]
    }
   ],
   "source": [
    "#Je reviens à quelque chose de beaucoup plus simple. On va prouver que l'on obtient le bon FF pour STF classique. \n",
    "#Travaillons en mode dense, facile.\n",
    "# This first version is for the classical STF. \n",
    "# Now, try to get to the domain-based STF...\n",
    "# Il semble que ça a marché! Donc si je comprends bien, maintenant, il serait interessant de trouver le MTF avec osrc en block preconditioning.\n",
    "# Essayer de répliquer le problème de OSRC. \n",
    "# MTF validated here. Now trying to get the stf working.\n",
    "\n",
    "import bempp.api \n",
    "import numpy as np\n",
    "import mtf\n",
    "\n",
    "from bempp.api.operators.boundary.sparse import identity\n",
    "from bempp.api.assembly.blocked_operator import BlockedOperator, GeneralizedBlockedOperator\n",
    "\n",
    "from mtf.utils import bhmie\n",
    "from mtf.config import config\n",
    "from mtf.functions import define_bempp_functions\n",
    "from matplotlib import pyplot as plt\n",
    "from decimal import Decimal\n",
    "\n",
    "bempp.api.enable_console_logging()\n",
    "M = 3\n",
    "\n",
    "mtf.config.set_case(\"B\")\n",
    "\n",
    "tangential_trace, neumann_trace = define_bempp_functions(config)\n",
    "\n",
    "k0, k1 = config[\"k_ext\"], config[\"k_int\"]\n",
    "k0, k1 = 1, 1\n",
    "lambda_par, freq = config[\"lambda\"], config[\"frequency\"]\n",
    "\n",
    "polarization = config[\"polarization\"]\n",
    "direction = config[\"direction\"]\n",
    "\n",
    "eps_rel = config[\"eps_rel\"]\n",
    "mu_rel = config[\"mu_rel\"]\n",
    "mu0 = config[\"mu_ext\"]\n",
    "mu1 = mu_rel * mu0\n",
    "\n",
    "eta_rel = np.sqrt(mu_rel / eps_rel)\n",
    "\n",
    "print(\"The exterior wavenumber is: {0}\".format(k0))\n",
    "print(\"The interior wavenumber is: {0}\".format(k1))\n",
    "\n",
    "print(\"----\")\n",
    "print(\"The exterior wavelenght is: {0}\".format(lambda_par))\n",
    "print(\"The exterior frequency is: {:.2E}\".format(Decimal(freq)))\n",
    "\n",
    "# To do: Go to the multi-domain STF...\n",
    "\n",
    "#segments = [[10], [20]]\n",
    "#swapped_normals = [[], []]\n",
    "\n",
    "# multiple shape, M=2\n",
    "#segments = [[10, 20], [10, 20]]\n",
    "#swapped_normals = [[10, 20], []]\n",
    "\n",
    "#multiple shape, M=3\n",
    "segments = [[10], [20], [12]]\n",
    "swapped_normals = [[], [], []]\n",
    "\n",
    "k_int, k_ext = config[\"k_int\"], config[\"k_ext\"]\n",
    "\n",
    "n = k_int / k_ext\n",
    "refIndex = n\n",
    "numAngles = 901\n",
    "s1, s2, qext, qsca, qback, gsca = bhmie(k_ext, k_int / k_ext, numAngles)\n",
    "angles = config['angles']\n",
    "\n",
    "k_list = [k0]\n",
    "eta_rel_list = [1]\n",
    "mu_list = [mu0]\n",
    "\n",
    "for index in range(M-1):\n",
    "  k_list.append(k1)\n",
    "  mu_list.append(mu1)\n",
    "  eta_rel_list.append(eta_rel)\n",
    "\n",
    "precision = 5\n",
    "\n",
    "h = 2 * np.pi/(precision*k0)\n",
    "grid = bempp.api.shapes.multitrace_sphere(h=h)\n",
    "\n"
   ]
  },
  {
   "cell_type": "code",
   "execution_count": 2,
   "id": "86b53d0b-11f4-4eab-adff-f54bb7e2765e",
   "metadata": {},
   "outputs": [
    {
     "name": "stderr",
     "output_type": "stream",
     "text": [
      "bempp:HOST:WARNING: Setting include_boundary_dofs has no effect on this space type.\n",
      "bempp:HOST:WARNING: Setting include_boundary_dofs has no effect on this space type.\n",
      "bempp:HOST:WARNING: Setting include_boundary_dofs has no effect on this space type.\n"
     ]
    },
    {
     "name": "stdout",
     "output_type": "stream",
     "text": [
      "1.2566370614359172 : h\n",
      "5 : precision\n",
      "160 : N\n"
     ]
    }
   ],
   "source": [
    "print(h, ': h')\n",
    "print(precision, ': precision')\n",
    "print(grid.number_of_edges * 2, ': N')\n",
    "\n",
    "\n",
    "dA = [bempp.api.function_space(grid, \"RWG\", 0, segments=seg, swapped_normals=normals,\n",
    "                                      include_boundary_dofs=True)\n",
    "              for seg, normals in zip(segments, swapped_normals)]\n",
    "\n",
    "p1dA = [bempp.api.function_space(grid, \"DP\", 1, segments=seg, swapped_normals=normals,\n",
    "                                      include_boundary_dofs=True)\n",
    "              for seg, normals in zip(segments, swapped_normals)]\n",
    "\n",
    "rA = [bempp.api.function_space(grid, \"RWG\", 0, segments=seg, swapped_normals=normals,\n",
    "                                      include_boundary_dofs=True)\n",
    "              for seg, normals in zip(segments, swapped_normals)]\n",
    "tA = [bempp.api.function_space(grid, \"SNC\", 0, segments=seg, swapped_normals=normals,\n",
    "                                      include_boundary_dofs=True)\n",
    "              for seg, normals in zip(segments, swapped_normals)]\n",
    "\n",
    "\n",
    "multitrace_ops = []\n",
    "# > Assemble all diagonal operators\n",
    "for index in range(2):\n",
    "  k = k_list[0]\n",
    "  mu = mu_list[0]\n",
    "  eta = eta_rel_list[0]\n",
    "  efie = bempp.api.operators.boundary.maxwell.electric_field(dA[index], rA[index], tA[index], k)\n",
    "  mfie = bempp.api.operators.boundary.maxwell.magnetic_field(dA[index], rA[index], tA[index], k)\n",
    "  multitrace_ops.append(bempp.api.GeneralizedBlockedOperator([[mfie, eta * efie],[- 1/eta * efie, mfie]]))\n"
   ]
  },
  {
   "cell_type": "code",
   "execution_count": 4,
   "id": "be9330cc-2b7d-4a1d-a933-5f245bda8970",
   "metadata": {},
   "outputs": [],
   "source": [
    "A10_wf = multitrace_ops[0].weak_form()\n",
    "A20_wf = multitrace_ops[1].weak_form()"
   ]
  },
  {
   "cell_type": "code",
   "execution_count": 10,
   "id": "f8017a50-1661-4a96-a394-d57fd3174a60",
   "metadata": {},
   "outputs": [],
   "source": [
    "efie_10_20 = bempp.api.operators.boundary.maxwell.electric_field(dA[0], rA[1], tA[1], k)"
   ]
  },
  {
   "cell_type": "code",
   "execution_count": 11,
   "id": "b075067a-402c-4d3d-922b-38254e48ca7c",
   "metadata": {},
   "outputs": [
    {
     "name": "stdout",
     "output_type": "stream",
     "text": [
      "(74, 74)\n",
      "(68, 68)\n"
     ]
    }
   ],
   "source": [
    "print(A10_wf.shape)\n",
    "print(A20_wf.shape)"
   ]
  },
  {
   "cell_type": "code",
   "execution_count": 12,
   "id": "f3352281-381e-4585-9c3c-fd3a64e6bdba",
   "metadata": {},
   "outputs": [
    {
     "name": "stderr",
     "output_type": "stream",
     "text": [
      "66 warnings generated.\n",
      "66 warnings generated.\n"
     ]
    },
    {
     "data": {
      "text/plain": [
       "<34x37 DenseDiscreteBoundaryOperator with dtype=complex128>"
      ]
     },
     "execution_count": 12,
     "metadata": {},
     "output_type": "execute_result"
    }
   ],
   "source": [
    "efie_10_20.weak_form()"
   ]
  },
  {
   "cell_type": "code",
   "execution_count": null,
   "id": "0cc80e6f-eb25-48c5-8698-4521bd9cb37b",
   "metadata": {},
   "outputs": [],
   "source": []
  },
  {
   "cell_type": "code",
   "execution_count": null,
   "id": "b59ad58f-a6e3-411f-a020-6dbc363f3dc8",
   "metadata": {},
   "outputs": [],
   "source": [
    "\n",
    "\"\"\"\n",
    "block_system = [M * [None] for _ in range(M)]\n",
    "\n",
    "for i in range(M):\n",
    "  for j in range(M):\n",
    "    if i == j:\n",
    "      block_system[i][j] = 2 * multitrace_ops[i]\n",
    "    else:\n",
    "      all = segments[i] + segments[j]\n",
    "      non_disjoint = np.unique(all).shape[0] != len(all)\n",
    "      \n",
    "      if non_disjoint:\n",
    "        ident = identity(dA[j], rA[i], tA[i])\n",
    "        op = BlockedOperator(2, 2)\n",
    "        #op[0, 0] = -ident\n",
    "        op[0, 0] = ident\n",
    "        op[1, 1] = ident\n",
    "        op.weak_form()\n",
    "        #op[1, 1] = ident\n",
    "        block_system[i][j] = op\n",
    "      else:\n",
    "        op = BlockedOperator(2, 2)\n",
    "        zero = ZeroBoundaryOperator(dA[j], rA[i], tA[i])\n",
    "        op[0, 0] = zero\n",
    "        op[1, 1] = zero\n",
    "        block_system[i][j] = op\n",
    "\"\"\"\n",
    "\n",
    "lhs_op = GeneralizedBlockedOperator(block_system)\n",
    "op_wf = lhs_op.weak_form()\n",
    "\n",
    "rhs = [2 * bempp.api.GridFunction(rA[0], dual_space = tA[0], fun=tangential_trace),\n",
    "      2 * bempp.api.GridFunction(rA[0], dual_space = tA[0], fun=neumann_trace)]\n",
    "\n",
    "for i in range(1, M):\n",
    "    zero_func = [bempp.api.GridFunction.from_zeros(dA[i]),bempp.api.GridFunction.from_zeros(dA[i])]\n",
    "    rhs = rhs + zero_func\n",
    "\n",
    "\n",
    "b = bempp.api.assembly.blocked_operator.projections_from_grid_functions_list(rhs, lhs_op.dual_to_range_spaces)\n",
    "N = b.shape[0]\n",
    "A = bempp.api.as_matrix(op_wf)\n",
    "x = np.linalg.solve(A, b)\n",
    "\n",
    "sol = bempp.api.assembly.blocked_operator.grid_function_list_from_coefficients(x.ravel(), lhs_op.domain_spaces)\n",
    "\n",
    "far_field_points = config['far_field_points']\n",
    "electric_far = bempp.api.operators.far_field.maxwell.electric_field(sol[1].space, far_field_points, k0)\n",
    "magnetic_far = bempp.api.operators.far_field.maxwell.magnetic_field(sol[0].space, far_field_points, k0)    \n",
    "\n",
    "far_field =  electric_far * sol[1] + magnetic_far * sol[0]\n",
    "\n",
    "A22 = far_field[2,:]\n",
    "uh = 10 * np.log10(4 * np.pi * np.abs(A22[:1801]))\n",
    "u =  10 * np.log10(4 * np.pi * np.abs(s1 / (-1j * k_ext) ))\n",
    "rel_error = np.linalg.norm(uh - u) / np.linalg.norm(u)\n",
    "\n",
    "\n",
    "print(rel_error)"
   ]
  },
  {
   "cell_type": "code",
   "execution_count": null,
   "id": "2cfed164-7391-46d6-bb2a-98c79407c066",
   "metadata": {},
   "outputs": [],
   "source": [
    "angles = config['angles']\n",
    "\n",
    "fig, ax  = plt.subplots(1,1, figsize=(6,6))\n",
    "plt.rcParams['figure.figsize'] = (15, 4) # Increase the figure size in the notebook\n",
    "\n",
    "A22 = far_field[2,:]\n",
    "uh = 10 * np.log10(4 * np.pi * np.abs(A22[:1801]))\n",
    "u =  10 * np.log10(4 * np.pi * np.abs(s1 / (-1j * k_ext) ))\n",
    "# -1j * kExt is to make agree with eqn 3.21 p70 tBohren and Huffman\n",
    "\n",
    "ax.plot(angles[:1801], uh, '-r', label='BEM')\n",
    "ax.plot(angles[:1801], u, 'b', label='MIE', linestyle=(0, (5, 5)))\n",
    "\n",
    "ax.set_xlabel(r\"$\\theta$ (rad)\", fontsize=15)\n",
    "ax.set_ylabel(r\"$\\mathrm{RCS}_z(\\theta)$\", fontsize=15)\n",
    "\n",
    "ymin, ymax = uh.min() - 1, uh.max() + 1\n",
    "ax.legend(prop={'size': 14})\n",
    "ax.grid()\n",
    "plt.xlim(-0.1, np.pi + 0.1)\n",
    "#plt.ylim(ymin, ymax)\n",
    "#plt.savefig(\"plots/RCSSphere.pdf\")\n",
    "plt.show()"
   ]
  },
  {
   "cell_type": "code",
   "execution_count": null,
   "id": "415d29c2-cc05-4c0e-8c4e-af72b968436e",
   "metadata": {},
   "outputs": [],
   "source": []
  }
 ],
 "metadata": {
  "kernelspec": {
   "display_name": "Python 3 (ipykernel)",
   "language": "python",
   "name": "python3"
  },
  "language_info": {
   "codemirror_mode": {
    "name": "ipython",
    "version": 3
   },
   "file_extension": ".py",
   "mimetype": "text/x-python",
   "name": "python",
   "nbconvert_exporter": "python",
   "pygments_lexer": "ipython3",
   "version": "3.10.12"
  }
 },
 "nbformat": 4,
 "nbformat_minor": 5
}
