{
 "cells": [
  {
   "cell_type": "markdown",
   "metadata": {},
   "source": [
    "# Local Multiple Trace Formulation for the Acoustic Scattering by composite objects"
   ]
  },
  {
   "cell_type": "markdown",
   "metadata": {},
   "source": [
    "In this notebook, we consider the electromagnetic scattering from a composite object made up of 2 scatterers, namely a multitrace_sphere. We solve the problem using the (local) Multiple Trace Formulation. We use piecewise linear basis function and use squared operator preconditioning for GMRES.\n",
    "\n",
    "We introduce the problem in a general setting.\n",
    "\n",
    "Parameters: \n",
    "\n",
    "- $M$: Number of domains\n",
    "- $k_0$: wavenumber for $\\Omega_0$ (exterior domain)\n",
    "- $\\mu_0$: permeability for $\\Omega_0$\n",
    "- $n_i$: refractive index for $\\Omega_i := \\Omega_1 , ... \\Omega_{M-1}$ (scatterers)\n",
    "\n",
    "The skeleton is defined as:\n",
    "$$\\Sigma : = \\bigcup_{i=0}^M \\Gamma_i = \\bigcup_{0 \\leq i \\leq j \\leq M} \\Gamma_{ij}\n",
    "$$\n",
    "and $\\chi_{ij}:= 1_{\\Gamma_{ij}}$ is the characteristic function for interface $\\Gamma_{ij}$.\n",
    "\n",
    "\n",
    "For $U_0:= U^s_0 + U_0^{inc}$ the (total) field in $\\Omega_0$, we introduce $\\mathbf{u}_0 := \\mathbf{u}_0^{s} + \\mathbf{u}_0^{inc}$ with\n",
    "\n",
    "$$\n",
    " \\quad\n",
    "\\mathbf{u}^s_0= \\begin{bmatrix}\n",
    "\\gamma_{D} U_0^s \\\\[6pt]\n",
    "\\dfrac{1}{\\mu_0} \\gamma_{N} U_0^s\n",
    "\\end{bmatrix}, \\quad \\mathbf{u}^{inc}_0= \\begin{bmatrix}\n",
    "\\gamma_{D} U_0^{inc} \\\\[6pt]\n",
    "\\dfrac{1}{\\mu_0} \\gamma_{N}U_0^{inc}\n",
    "\\end{bmatrix}.\n",
    "$$\n",
    "\n",
    "For $i = 0, \\cdots, M$, the scaled Cauchy data read:\n",
    "\\begin{align}\n",
    "\\mathbf{u}_i = \\begin{bmatrix}\n",
    "\\gamma_{D} U_i \\\\[6pt]\n",
    "\\dfrac{1}{\\mu_i} \\gamma_{N}U_i\n",
    "\\end{bmatrix}.\n",
    "\\end{align}\n",
    "\n",
    "Furthermore, we define the scaled multitrace operators and transfert operators for $i,j = 0,\\cdots , M$:\n",
    "$$\n",
    "\\mathcal{A}_i = \\begin{bmatrix}\n",
    "-\\mathcal{K}_i & \\mu_i \\mathcal{V}_i\\\\[6pt]\n",
    "\\frac{1}{\\mu_i} \\mathcal{W}_i & \\mathcal{K}\\prime_i \n",
    "\\end{bmatrix},\\quad \\text{and} \\quad% \\mathcal{X}_{ij} = \\begin{bmatrix}\n",
    "%- \\mathcal{I}_{ij} &0\\\\[6pt]\n",
    "%0 & \\mathcal{I}_{ij} \\\\\n",
    "%\\end{bmatrix},\n",
    "$$\n",
    "\n",
    "and set \n",
    "$$ \\quad\\mathbf{u} : =  \\begin{bmatrix}\\mathbf{u}_0 \\\\ \\mathbf{u}_1\\\\ \\vdots\\\\ \\mathbf{u}_M\\end{bmatrix},\\quad \\mathbf{u}^\\text{inc} : =\\begin{bmatrix}\\mathbf{u}_0^{inc} \\\\ 0 \\\\ \\vdots \\\\ 0\\end{bmatrix}.$$\n",
    "\n",
    "Finally, \n",
    "$$\n",
    "\\mathcal{A} := \\text{diag}(\\mathcal{A}_i),\\quad \\mathcal{X} := [\\mathcal{X}_{ij}],\n",
    "$$\n",
    "with\n",
    "$$\n",
    "\\mathcal{X}_{ij}= \\chi_{ij}\\mathcal{I}_{ij}.\n",
    "$$\n",
    "The local MTF boundary integral equation reads:\n",
    "$$\n",
    "(2 \\mathcal{A} + \\mathcal{X} ) \\mathbf{u} = -2 \\mathbf{u}^\\text{inc}.\n",
    "$$\n",
    "\n",
    "\n",
    "We start with the usual imports and enable console logging. We use a precision of $10$ elements per wavelength. \n",
    "\n",
    "Throughout this script, we set $\\mu_0=\\mu_1=\\mu_2=1$."
   ]
  },
  {
   "cell_type": "code",
   "execution_count": 1,
   "metadata": {},
   "outputs": [],
   "source": [
    "import biosspheres"
   ]
  },
  {
   "cell_type": "code",
   "execution_count": 11,
   "metadata": {},
   "outputs": [
    {
     "name": "stdout",
     "output_type": "stream",
     "text": [
      "0.06283185307179587 : h\n",
      "10 : precision\n"
     ]
    }
   ],
   "source": [
    "import bempp.api \n",
    "import numpy as np\n",
    "from bempp.api.operators.boundary.sparse import identity\n",
    "from bempp.api.assembly.blocked_operator import BlockedOperator, GeneralizedBlockedOperator\n",
    "\n",
    "from bempp.api import ZeroBoundaryOperator\n",
    "bempp.api.enable_console_logging()\n",
    "\n",
    "#M = 2\n",
    "M = 3\n",
    "k0 = 10\n",
    "\n",
    "mu0 = 1\n",
    "\n",
    "refractivei = [1.5, 1.2]\n",
    "mui = [1., 1.]\n",
    "\n",
    "precision = 10\n",
    "\n",
    "h = 2 * np.pi/(precision*k0)\n",
    "print(h, ': h')\n",
    "print(precision, ': precision')"
   ]
  },
  {
   "cell_type": "markdown",
   "metadata": {},
   "source": [
    "We introduce the grid for the multitrace_cube. The grid is with Physical Surfaces from 1 to 11. \n",
    "- Scatterer $\\Omega_1$ corresponds to Physical Surfaces [1,2,3,4,5,6]\n",
    "- Scatterer $\\Omega_2$ corresponds to Physical Surfaces [6,7,8,9,10,11]\n",
    "- Exterior domain $\\Omega_0$ corresponds to Physical Surfaces [1,2,3,4,5,7,8,9,10,11]\n",
    "\n",
    "Moreover, interfaces $\\Gamma_{ij}$ are with normal vectors pointing from $i$ to $j$, $i<j$, and Physical Surface [6] corresponds to $\\Gamma_{12}$.\n",
    "We aim at swapping normals appropriately for each domain, in order to work with domains with normal vectors pointing towards the exterior.\n",
    "\n",
    "- Scatterer $\\Omega_1$ is with normal vector pointing towards the exterior.\n",
    "- Scatterer $\\Omega_2$ is with normal vector pointing towards the interior for Physical Surface [6].\n",
    "- Scatterer $\\Omega_0$ is with normal vector pointing towards the interior.\n",
    "\n",
    "Accordingly, we define segments and swapped_normals. "
   ]
  },
  {
   "cell_type": "code",
   "execution_count": 12,
   "metadata": {},
   "outputs": [
    {
     "name": "stderr",
     "output_type": "stream",
     "text": [
      "bempp:HOST:INFO: Created grid with id c44aa2a6-43ee-446c-9415-14665fe08ec8. Elements: 9644. Edges: 14416. Vertices: 4775\n"
     ]
    }
   ],
   "source": [
    "grid = bempp.api.shapes.multitrace_sphere(h=h)\n",
    "segments = [[10,20],[10,12],[12,20]]\n",
    "swapped_normals = [[10,20],{},[12]]\n",
    "\n",
    "#grid = bempp.api.shapes.sphere(h=h)\n",
    "#segments = [[10],[10]]\n",
    "#swapped_normals = [[10], {}]\n",
    "interface = [12]"
   ]
  },
  {
   "cell_type": "markdown",
   "metadata": {},
   "source": [
    "We define the input parameters and functions spaces for the operators. \n",
    "\n",
    "- d: domain spaces\n",
    "- r: range spaces\n",
    "- t: dual to range spaces\n",
    "- A: Impedance matrix\n"
   ]
  },
  {
   "cell_type": "code",
   "execution_count": 13,
   "metadata": {},
   "outputs": [],
   "source": [
    "k_list = [k0] \n",
    "mu_list = [mu0]\n",
    "for index in range(M-1):\n",
    "  k_list.append(refractivei[index] * k0)\n",
    "  mu_list.append(mui[index])\n",
    "\n",
    "    \n",
    "dA = [bempp.api.function_space(grid, \"P\", 1, segments=seg, swapped_normals=normals,\n",
    "                                      include_boundary_dofs=True)\n",
    "              for seg, normals in zip(segments, swapped_normals)]\n",
    "rA = [bempp.api.function_space(grid, \"P\", 1, segments=seg, swapped_normals=normals,\n",
    "                                      include_boundary_dofs=True)\n",
    "              for seg, normals in zip(segments, swapped_normals)]\n",
    "tA = [bempp.api.function_space(grid, \"P\", 1, segments=seg, swapped_normals=normals,\n",
    "                                      include_boundary_dofs=True)\n",
    "              for seg, normals in zip(segments, swapped_normals)]\n"
   ]
  },
  {
   "cell_type": "markdown",
   "metadata": {},
   "source": [
    "We assembly the multitrace operators for each subdomain, and the MTF operator.\n"
   ]
  },
  {
   "cell_type": "code",
   "execution_count": 14,
   "metadata": {},
   "outputs": [],
   "source": [
    "multitrace_ops = []\n",
    "# > Assemble all diagonal operators\n",
    "for index in range(M):\n",
    "  k = k_list[index]\n",
    "  mu = mu_list[index]\n",
    "\n",
    "  V = bempp.api.operators.boundary.helmholtz.single_layer(dA[index], rA[index], tA[index], k, assembler='dense')\n",
    "  K = bempp.api.operators.boundary.helmholtz.double_layer(dA[index], rA[index], tA[index], k, assembler='dense')\n",
    "  Kp = bempp.api.operators.boundary.helmholtz.adjoint_double_layer(dA[index], rA[index], tA[index], k, assembler='dense')\n",
    "  W = bempp.api.operators.boundary.helmholtz.hypersingular(dA[index], rA[index], tA[index], k, assembler='dense')  \n",
    "\n",
    "  #multitrace_ops.append(bempp.api.GeneralizedBlockedOperator([[mfie, mu/k * efie],[- k/mu * efie, mfie]]))\n",
    "  multitrace_ops.append(bempp.api.GeneralizedBlockedOperator([[-K, V],[W, Kp]]))\n",
    "\n",
    "# Define the final operator\n",
    "\n",
    "block_system = [M * [None] for _ in range(M)]\n",
    "A = [M * [None] for _ in range(M)]\n",
    "X = [M * [None] for _ in range(M)]\n",
    "\n",
    "for i in range(M):\n",
    "  for j in range(M):\n",
    "    opZ = BlockedOperator(2, 2)\n",
    "    zero = ZeroBoundaryOperator(dA[j], rA[i], tA[i])\n",
    "    opZ[0, 0] = zero\n",
    "    opZ[1, 1] = zero\n",
    "    \n",
    "    if i == j:\n",
    "      block_system[i][j] = 2 * multitrace_ops[i]\n",
    "      A[i][j] = 2 * multitrace_ops[i]\n",
    "      X[i][j] = opZ\n",
    "    else:\n",
    "      A[i][j] = opZ  \n",
    "      all = segments[i] + segments[j]\n",
    "      non_disjoint = np.unique(all).shape[0] != len(all)\n",
    "      \n",
    "      if non_disjoint:\n",
    "        ident = identity(dA[j], rA[i], tA[i])\n",
    "        op = BlockedOperator(2, 2)\n",
    "        #op[0, 0] = -ident\n",
    "        op[0, 0] = -ident\n",
    "        op[1, 1] = ident\n",
    "        op.weak_form()\n",
    "        #op[1, 1] = ident\n",
    "        block_system[i][j] = op\n",
    "        X[i][j] = op\n",
    "\n",
    "      else:\n",
    "        \n",
    "        block_system[i][j] = op\n",
    "\n",
    "        \n",
    "\n",
    "block_system = GeneralizedBlockedOperator(block_system)\n",
    "A = GeneralizedBlockedOperator(A)\n",
    "X = GeneralizedBlockedOperator(X)\n"
   ]
  },
  {
   "cell_type": "markdown",
   "metadata": {},
   "source": [
    "We assembly of the right-hand side."
   ]
  },
  {
   "cell_type": "code",
   "execution_count": 15,
   "metadata": {},
   "outputs": [],
   "source": [
    "\n",
    "@bempp.api.complex_callable\n",
    "def dirichlet_fun(x, n, domain_index, result):\n",
    "    result[0] = np.exp(1j * k0 * x[0])\n",
    "    \n",
    "@bempp.api.complex_callable\n",
    "def neumann_fun(x, n, domain_index, result):\n",
    "    result[0] = 1j * k0 * n[0] * np.exp(1j * k0 * x[0])\n",
    "\n",
    "\n",
    "rhs = [-2 * bempp.api.GridFunction(rA[0], dual_space = tA[0], fun=dirichlet_fun),\n",
    "       -2 * bempp.api.GridFunction(rA[0], dual_space = tA[0], fun=neumann_fun)]\n",
    "for i in range(1, M):\n",
    "    zero_func = [bempp.api.GridFunction.from_zeros(dA[i]),bempp.api.GridFunction.from_zeros(dA[i])]\n",
    "    rhs = rhs + zero_func\n",
    "\n"
   ]
  },
  {
   "cell_type": "markdown",
   "metadata": {},
   "source": [
    "We solve the linear system in weak form, with a direct solver, and verify that the trace jumps across $\\Gamma_{12}$ are small."
   ]
  },
  {
   "cell_type": "code",
   "execution_count": 16,
   "metadata": {},
   "outputs": [
    {
     "name": "stdout",
     "output_type": "stream",
     "text": [
      "weak_form\n",
      "matrix\n",
      "direct solver\n"
     ]
    },
    {
     "name": "stderr",
     "output_type": "stream",
     "text": [
      "/usr/lib/python3/dist-packages/scipy/sparse/linalg/dsolve/linsolve.py:318: SparseEfficiencyWarning: splu requires CSC matrix format\n",
      "  warn('splu requires CSC matrix format', SparseEfficiencyWarning)\n"
     ]
    },
    {
     "name": "stdout",
     "output_type": "stream",
     "text": [
      "b2\n",
      "res\n",
      "0.011291358973251552 : L^2 relative error for tangential traces\n",
      "0.06681237359425203 : L^2 relative error for magnetic traces\n"
     ]
    }
   ],
   "source": [
    "\n",
    "print('weak_form')\n",
    "block_system_wf = block_system.weak_form()\n",
    "print('matrix')\n",
    "Am = bempp.api.as_matrix(block_system_wf)\n",
    "print('direct solver')\n",
    "b = bempp.api.assembly.blocked_operator.projections_from_grid_functions_list(rhs, block_system.dual_to_range_spaces)\n",
    "x = np.linalg.solve(Am, b)\n",
    "sol = bempp.api.assembly.blocked_operator.grid_function_list_from_coefficients(x.ravel(), block_system.domain_spaces)\n",
    "\n",
    "\n",
    "\n",
    "\n",
    "B = bempp.api.as_matrix((A * (A + X)).strong_form())\n",
    "print('b2')\n",
    "B2 = bempp.api.as_matrix((block_system * block_system).strong_form())\n",
    "print('res')\n",
    "###################\n",
    "# Results\n",
    "\n",
    "interface_space = bempp.api.function_space(grid, \"P\", 1, segments=[12], include_boundary_dofs = True)\n",
    "\n",
    "#map_dom0_to_interface = identity(sol[0].space, interface_space, interface_space)\n",
    "#map_dom1_to_interface = identity(sol[2].space, interface_space, interface_space)\n",
    "\n",
    "#triple\n",
    "map_dom0_to_interface = identity(sol[2].space, interface_space, interface_space)\n",
    "map_dom1_to_interface = identity(sol[4].space, interface_space, interface_space)\n",
    "\n",
    "#trace0i = map_dom0_to_interface @ sol[0]\n",
    "#trace1i = map_dom1_to_interface @ sol[2]\n",
    "\n",
    "trace0i = map_dom0_to_interface @ sol[2]\n",
    "trace1i = map_dom1_to_interface @ sol[4]\n",
    "\n",
    "#normal_trace0i = map_dom0_to_interface @ sol[1]\n",
    "#normal_trace1i = map_dom1_to_interface @ sol[3]\n",
    "\n",
    "normal_trace0i = map_dom0_to_interface @ sol[3]\n",
    "normal_trace1i = map_dom1_to_interface @ sol[5]\n",
    "\n",
    "dirichlet_jump = (trace0i - trace1i).l2_norm() / (trace0i.l2_norm())\n",
    "neumann_jump = (normal_trace0i + normal_trace1i).l2_norm() / (normal_trace0i.l2_norm())\n",
    "\n",
    "print(dirichlet_jump,': L^2 relative error for tangential traces')\n",
    "print(neumann_jump,': L^2 relative error for magnetic traces')\n",
    "\n"
   ]
  },
  {
   "cell_type": "code",
   "execution_count": 17,
   "metadata": {},
   "outputs": [
    {
     "name": "stderr",
     "output_type": "stream",
     "text": [
      "bempp:HOST:INFO: Starting GMRES iteration\n",
      "bempp:HOST:INFO: GMRES Iteration 1 with residual 0.7365495069968526\n",
      "bempp:HOST:INFO: GMRES Iteration 2 with residual 0.5877384787658801\n",
      "bempp:HOST:INFO: GMRES Iteration 3 with residual 0.2540020627925216\n",
      "bempp:HOST:INFO: GMRES Iteration 4 with residual 0.17161192068520076\n",
      "bempp:HOST:INFO: GMRES Iteration 5 with residual 0.08199608862235222\n",
      "bempp:HOST:INFO: GMRES Iteration 6 with residual 0.057117485294933115\n",
      "bempp:HOST:INFO: GMRES Iteration 7 with residual 0.03210736228125868\n",
      "bempp:HOST:INFO: GMRES Iteration 8 with residual 0.023370109225826465\n",
      "bempp:HOST:INFO: GMRES Iteration 9 with residual 0.018159486419057187\n",
      "bempp:HOST:INFO: GMRES Iteration 10 with residual 0.01069390326063503\n",
      "bempp:HOST:INFO: GMRES Iteration 11 with residual 0.008574949453681174\n",
      "bempp:HOST:INFO: GMRES Iteration 12 with residual 0.005946491764414926\n",
      "bempp:HOST:INFO: GMRES Iteration 13 with residual 0.004411578113153262\n",
      "bempp:HOST:INFO: GMRES Iteration 14 with residual 0.0034797427755708294\n",
      "bempp:HOST:INFO: GMRES Iteration 15 with residual 0.0015851105283519198\n",
      "bempp:HOST:INFO: GMRES Iteration 16 with residual 0.000861350353358659\n",
      "bempp:HOST:INFO: GMRES Iteration 17 with residual 0.0006018381648397502\n",
      "bempp:HOST:INFO: GMRES Iteration 18 with residual 0.00037200208254419746\n",
      "bempp:HOST:INFO: GMRES Iteration 19 with residual 0.0001763451628868351\n",
      "bempp:HOST:INFO: GMRES Iteration 20 with residual 9.91574906555858e-05\n",
      "bempp:HOST:INFO: GMRES Iteration 21 with residual 9.876008704297387e-05\n",
      "bempp:HOST:INFO: GMRES Iteration 22 with residual 9.309220867579782e-05\n",
      "bempp:HOST:INFO: GMRES Iteration 23 with residual 8.271133945027979e-05\n",
      "bempp:HOST:INFO: GMRES Iteration 24 with residual 6.900507760140084e-05\n",
      "bempp:HOST:INFO: GMRES Iteration 25 with residual 5.384447184312873e-05\n",
      "bempp:HOST:INFO: GMRES Iteration 26 with residual 3.7428979232992126e-05\n",
      "bempp:HOST:INFO: GMRES Iteration 27 with residual 2.2177361866630453e-05\n",
      "bempp:HOST:INFO: GMRES Iteration 28 with residual 1.6305826228882868e-05\n",
      "bempp:HOST:INFO: GMRES Iteration 29 with residual 9.82627082130822e-06\n",
      "bempp:HOST:INFO: GMRES finished in 29 iterations and took 7.56E+00 sec.\n"
     ]
    }
   ],
   "source": [
    "# STF\n",
    "\n",
    "gmres= bempp.api.linalg.gmres(block_system * block_system, block_system * rhs, use_strong_form=True, return_residuals=True, return_iteration_count = True, maxiter = 100)\n",
    "\n",
    "\n",
    "#gmres= bempp.api.linalg.gmres(A * block_system, block_system * rhs, use_strong_form=True, return_residuals=True, return_iteration_count = True, maxiter = 100)"
   ]
  },
  {
   "cell_type": "markdown",
   "metadata": {},
   "source": [
    "# Eigenvalues analysis and preconditioning\n"
   ]
  },
  {
   "cell_type": "code",
   "execution_count": null,
   "metadata": {},
   "outputs": [],
   "source": [
    "import numpy as np\n",
    "eig2 = np.linalg.eigvals(B2)\n",
    "eig = np.linalg.eigvals(B)\n",
    "from matplotlib import pyplot as plt\n",
    "\n",
    "plt.scatter(eig.real, eig.imag, label = 'MTF')\n",
    "plt.scatter(eig2.real, eig2.imag, label = 'MTF2')\n",
    "plt.legend()"
   ]
  },
  {
   "cell_type": "code",
   "execution_count": null,
   "metadata": {},
   "outputs": [],
   "source": [
    "print(trace0i.coefficients[:10])\n",
    "print(trace1i.coefficients[:10])\n",
    "print(normal_trace0i.coefficients[:10])\n",
    "print(normal_trace1i.coefficients[:10])"
   ]
  },
  {
   "cell_type": "markdown",
   "metadata": {},
   "source": [
    "We compute the Far-Field pattern:\n",
    "    "
   ]
  },
  {
   "cell_type": "code",
   "execution_count": null,
   "metadata": {},
   "outputs": [],
   "source": [
    "number_of_angles = 3601\n",
    "angles = np.pi * np.linspace(0, 2, number_of_angles)\n",
    "unit_points = np.array([np.cos(angles), np.sin(angles), np.zeros(number_of_angles)])\n",
    "\n",
    "\n",
    "single_far = bempp.api.operators.far_field.helmholtz.single_layer(sol[1].space, unit_points, k0)\n",
    "double_far = bempp.api.operators.far_field.helmholtz.double_layer(sol[0].space, unit_points, k0)    \n",
    "\n",
    "far_field = - single_far * sol[1] + double_far * sol[0]\n",
    "\n",
    "\n",
    "from matplotlib import pyplot as plt\n",
    "from mpl_toolkits.axes_grid1 import make_axes_locatable\n",
    "\n",
    "fig = plt.figure()\n",
    "plt.rcParams['figure.figsize'] = (15, 10) # Increase the figure size in the notebook\n",
    "params = {'legend.fontsize': 'x-large', 'axes.labelsize': 'x-large', 'axes.titlesize': 'x-large',\n",
    "         'xtick.labelsize': 'x-large', 'ytick.labelsize': 'x-large'}\n",
    "plt.rcParams.update(params)\n",
    "\n",
    "bistatic_rcs= 10 * np.log10(4 * np.pi * np.sum(np.abs(far_field)**2, axis=0))\n",
    "plt.plot(angles * 180 / np.pi, bistatic_rcs)\n",
    "\n",
    "plt.title(\"Bistatic RCS [dB]\")\n",
    "_ = plt.xlabel('Angle (Degrees)')"
   ]
  },
  {
   "cell_type": "code",
   "execution_count": null,
   "metadata": {},
   "outputs": [],
   "source": []
  },
  {
   "cell_type": "code",
   "execution_count": null,
   "metadata": {},
   "outputs": [],
   "source": []
  }
 ],
 "metadata": {
  "kernelspec": {
   "display_name": "Python 3 (ipykernel)",
   "language": "python",
   "name": "python3"
  },
  "language_info": {
   "codemirror_mode": {
    "name": "ipython",
    "version": 3
   },
   "file_extension": ".py",
   "mimetype": "text/x-python",
   "name": "python",
   "nbconvert_exporter": "python",
   "pygments_lexer": "ipython3",
   "version": "3.9.7"
  }
 },
 "nbformat": 4,
 "nbformat_minor": 4
}
