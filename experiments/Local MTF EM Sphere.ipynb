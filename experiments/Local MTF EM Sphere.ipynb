{
 "cells": [
  {
   "cell_type": "code",
   "execution_count": 6,
   "metadata": {},
   "outputs": [
    {
     "name": "stderr",
     "output_type": "stream",
     "text": [
      "bempp:HOST:INFO: Created grid with id 625296f5-5856-440c-81e4-651ba08eb5e0. Elements: 40. Edges: 60. Vertices: 22\n"
     ]
    }
   ],
   "source": [
    "\n",
    "import bempp.api \n",
    "bempp.api\n",
    "\n",
    "import numpy as np\n",
    "from bempp.api.operators.boundary.sparse import identity\n",
    "from bempp.api.assembly.blocked_operator import BlockedOperator, GeneralizedBlockedOperator\n",
    "\n",
    "bempp.api.enable_console_logging()\n",
    "k = 1\n",
    "h = 0.8\n",
    "\n",
    "grid = bempp.api.shapes.sphere(h=h)\n",
    "rwg = bempp.api.function_space(grid, 'RWG', 0)\n",
    "rwg = bempp.api.function_space(grid, 'RWG', 0)\n",
    "snc = bempp.api.function_space(grid, 'SNC', 0)\n",
    "\n",
    "\n",
    "efie = bempp.api.operators.boundary.maxwell"
   ]
  },
  {
   "cell_type": "code",
   "execution_count": 2,
   "metadata": {},
   "outputs": [
    {
     "data": {
      "text/plain": [
       "<module 'bempp.api' from '/usr/local/lib/python3.9/dist-packages/bempp/api/__init__.py'>"
      ]
     },
     "execution_count": 2,
     "metadata": {},
     "output_type": "execute_result"
    }
   ],
   "source": [
    "bempp.api"
   ]
  },
  {
   "cell_type": "code",
   "execution_count": 4,
   "metadata": {},
   "outputs": [
    {
     "name": "stderr",
     "output_type": "stream",
     "text": [
      "bempp:HOST:INFO: Created grid with id 1caf9f67-b535-4935-8298-f5bbcb305dd6. Elements: 7108. Edges: 10662. Vertices: 3556\n"
     ]
    },
    {
     "name": "stdout",
     "output_type": "stream",
     "text": [
      "10662 ne1\n",
      "42648 Ndofs\n"
     ]
    }
   ],
   "source": [
    "\n",
    "ne1 = grid.number_of_edges\n",
    "print(ne1, 'ne1')\n",
    "print(M * ne1 * 2, 'Ndofs')\n",
    "segments = [[10], [10]]\n",
    "swapped_normals = [[10], []]\n",
    "#swapped_normals = [[1,2,3,4,5,7,8,9,10,11],{}, [6]]\n",
    "interface = [[10]]"
   ]
  },
  {
   "cell_type": "code",
   "execution_count": 5,
   "metadata": {},
   "outputs": [
    {
     "name": "stdout",
     "output_type": "stream",
     "text": [
      "[6.29, 12.599999999999998] k_list\n"
     ]
    }
   ],
   "source": [
    "k_list = [k0] \n",
    "mu_list = [mu0]\n",
    "for index in range(M-1):\n",
    "  k_list.append(refractivei[index] * k0)\n",
    "  mu_list.append(mui[index])\n",
    "\n",
    "print(k_list, 'k_list')\n",
    "    \n",
    "dA = [bempp.api.function_space(grid, \"RWG\", 0, segments=seg, swapped_normals=normals,\n",
    "                                      include_boundary_dofs=True)\n",
    "              for seg, normals in zip(segments, swapped_normals)]\n",
    "rA = [bempp.api.function_space(grid, \"RWG\", 0, segments=seg, swapped_normals=normals,\n",
    "                                      include_boundary_dofs=True)\n",
    "              for seg, normals in zip(segments, swapped_normals)]\n",
    "tA = [bempp.api.function_space(grid, \"SNC\", 0, segments=seg, swapped_normals=normals,\n",
    "                                      include_boundary_dofs=True)\n",
    "              for seg, normals in zip(segments, swapped_normals)]"
   ]
  },
  {
   "cell_type": "code",
   "execution_count": 6,
   "metadata": {},
   "outputs": [],
   "source": [
    "multitrace_ops = []\n",
    "# > Assemble all diagonal operators\n",
    "for index in range(M):\n",
    "  k = k_list[index]\n",
    "  mu = mu_list[index]\n",
    "  efie = bempp.api.operators.boundary.maxwell.electric_field(dA[index], rA[index], tA[index], k)\n",
    "  mfie = bempp.api.operators.boundary.maxwell.magnetic_field(dA[index], rA[index], tA[index], k)\n",
    "  multitrace_ops.append(bempp.api.GeneralizedBlockedOperator([[mfie, mu/k * efie],[- k/mu * efie, mfie]]))\n",
    "\n",
    "# Define the final operator\n",
    "\n",
    "block_system = [M * [None] for _ in range(M)]\n",
    "\n",
    "for i in range(M):\n",
    "  for j in range(M):\n",
    "    if i == j:\n",
    "      block_system[i][j] = 2 * multitrace_ops[i]\n",
    "    else:\n",
    "      all = segments[i] + segments[j]\n",
    "      non_disjoint = np.unique(all).shape[0] != len(all)\n",
    "      \n",
    "      if non_disjoint:\n",
    "        ident = identity(dA[j], rA[i], tA[i])\n",
    "        op = BlockedOperator(2, 2)\n",
    "        #op[0, 0] = -ident\n",
    "        op[0, 0] = ident\n",
    "        op[1, 1] = ident\n",
    "        op.weak_form()\n",
    "        #op[1, 1] = ident\n",
    "        block_system[i][j] = op\n",
    "      else:\n",
    "        op = BlockedOperator(2, 2)\n",
    "        zero = ZeroBoundaryOperator(dA[j], rA[i], tA[i])\n",
    "        op[0, 0] = zero\n",
    "        op[1, 1] = zero\n",
    "        block_system[i][j] = op\n",
    "\n",
    "block_system = GeneralizedBlockedOperator(block_system)\n"
   ]
  },
  {
   "cell_type": "code",
   "execution_count": 7,
   "metadata": {},
   "outputs": [],
   "source": [
    "\n",
    "def incident_field_z(x):\n",
    "    return np.array([0. * x[0], 0. * x[0], np.exp(1j * k0 * x[0])])\n",
    "\n",
    "\n",
    "@bempp.api.complex_callable\n",
    "def dirichlet_trace_z(x, n, domain_index, result):\n",
    "    incident_field_z = np.array([0. * x[0], 0. * x[0], np.exp(1j * k0 * x[0])])\n",
    "    result[:] = np.cross(incident_field_z, n)\n",
    "\n",
    "\n",
    "@bempp.api.complex_callable\n",
    "def neumann_trace_z(x, n, domain_index, result):\n",
    "    curl_z = np.array([x[0] * 0. ,-1j * k0 * np.exp(1j * k0 * x[0]), x[0] * 0.])\n",
    "#     with objmode():\n",
    "    result[:] = (1/(1j * k0)) * np.cross(curl_z, n)\n",
    "\n",
    "rhs = [ -2 * bempp.api.GridFunction(rA[0], dual_space = tA[0], fun=dirichlet_trace_z),\n",
    "        -2 * k0 / mu0 * bempp.api.GridFunction(rA[0], dual_space = tA[0], fun=neumann_trace_z)]\n",
    "for i in range(1, M):\n",
    "    zero_func = [bempp.api.GridFunction.from_zeros(dA[i]),bempp.api.GridFunction.from_zeros(dA[i])]\n",
    "    rhs = rhs + zero_func\n",
    "\n"
   ]
  },
  {
   "cell_type": "code",
   "execution_count": 8,
   "metadata": {},
   "outputs": [
    {
     "name": "stderr",
     "output_type": "stream",
     "text": [
      "bempp:HOST:INFO: OpenCL CPU Device set to: pthread-AMD EPYC 7302 16-Core Processor\n"
     ]
    }
   ],
   "source": [
    "block_system_wf = block_system.weak_form()\n"
   ]
  },
  {
   "cell_type": "code",
   "execution_count": null,
   "metadata": {},
   "outputs": [
    {
     "name": "stdout",
     "output_type": "stream",
     "text": [
      "weak_form\n",
      "matrix\n",
      "(42648, 42648) Ashape\n",
      "direct solver\n"
     ]
    }
   ],
   "source": [
    "print('weak_form')\n",
    "block_system_wf = block_system.weak_form()\n",
    "print('matrix')\n",
    "A = bempp.api.as_matrix(block_system_wf)\n",
    "print(A.shape, 'Ashape')\n",
    "print('direct solver')\n",
    "b = bempp.api.assembly.blocked_operator.projections_from_grid_functions_list(rhs, block_system.dual_to_range_spaces)\n",
    "x = np.linalg.solve(A, b)\n",
    "sol = bempp.api.assembly.blocked_operator.grid_function_list_from_coefficients(x.ravel(), block_system.domain_spaces)\n"
   ]
  },
  {
   "cell_type": "markdown",
   "metadata": {},
   "source": [
    "We compute the Far-Field pattern:\n",
    "    "
   ]
  },
  {
   "cell_type": "code",
   "execution_count": null,
   "metadata": {},
   "outputs": [],
   "source": [
    "number_of_angles = 3601\n",
    "angles = np.pi * np.linspace(0, 2, number_of_angles)\n",
    "unit_points = np.array([np.cos(angles), np.sin(angles), np.zeros(number_of_angles)])\n",
    "\n",
    "\n",
    "electric_far = bempp.api.operators.far_field.maxwell.electric_field(sol[1].space, unit_points, k0)\n",
    "magnetic_far = bempp.api.operators.far_field.maxwell.magnetic_field(sol[0].space, unit_points, k0)    \n",
    "\n",
    "far_field = - electric_far * sol[1] * mu0 / k0 - magnetic_far * sol[0]\n",
    "\n",
    "from matplotlib import pyplot as plt\n",
    "from mpl_toolkits.axes_grid1 import make_axes_locatable\n",
    "\n",
    "fig = plt.figure()\n",
    "plt.rcParams['figure.figsize'] = (15, 10) # Increase the figure size in the notebook\n",
    "params = {'legend.fontsize': 'x-large', 'axes.labelsize': 'x-large', 'axes.titlesize': 'x-large',\n",
    "         'xtick.labelsize': 'x-large', 'ytick.labelsize': 'x-large'}\n",
    "plt.rcParams.update(params)\n",
    "\n",
    "bistatic_rcs= 10 * np.log10(4 * np.pi * np.sum(np.abs(far_field)**2, axis=0))\n",
    "plt.plot(angles * 180 / np.pi, bistatic_rcs)\n",
    "\n",
    "plt.title(\"Bistatic RCS [dB]\")\n",
    "_ = plt.xlabel('Angle (Degrees)')"
   ]
  },
  {
   "cell_type": "code",
   "execution_count": null,
   "metadata": {},
   "outputs": [],
   "source": [
    "x.shape"
   ]
  },
  {
   "cell_type": "code",
   "execution_count": null,
   "metadata": {},
   "outputs": [],
   "source": []
  }
 ],
 "metadata": {
  "kernelspec": {
   "display_name": "Python 3 (ipykernel)",
   "language": "python",
   "name": "python3"
  },
  "language_info": {
   "codemirror_mode": {
    "name": "ipython",
    "version": 3
   },
   "file_extension": ".py",
   "mimetype": "text/x-python",
   "name": "python",
   "nbconvert_exporter": "python",
   "pygments_lexer": "ipython3",
   "version": "3.9.7"
  }
 },
 "nbformat": 4,
 "nbformat_minor": 4
}
