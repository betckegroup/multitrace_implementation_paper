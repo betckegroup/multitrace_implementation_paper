{
 "cells": [
  {
   "cell_type": "markdown",
   "metadata": {},
   "source": [
    "# Local Multiple Trace Formulation for the Electromagnetic Scattering by composite objects"
   ]
  },
  {
   "cell_type": "markdown",
   "metadata": {},
   "source": [
    "In this notebook, we consider the electromagnetic scattering from a composite object made up of 2 scatterers, namely a multitrace_cube. We solve the problem using the (local) Multiple Trace Formulation. \n",
    "\n",
    "We introduce the problem in a general setting.\n",
    "\n",
    "Parameters: \n",
    "\n",
    "- $M$: Number of domains\n",
    "- $k_0$: wavenumber for $\\Omega_0$ (exterior domain)\n",
    "- $\\mu_0$: permeability for $\\Omega_0$\n",
    "- $n_i$: refractive index for $\\Omega_i := \\Omega_1 , ... \\Omega_{M-1}$ (scatterers)\n",
    "\n",
    "The skeleton is defined as:\n",
    "$$\\Sigma : = \\bigcup_{i=0}^M \\Gamma_i = \\bigcup_{0 \\leq i \\leq j \\leq M} \\Gamma_{ij}\n",
    "$$\n",
    "and $\\chi_{ij}:= 1_{\\Gamma_{ij}}$ is the characteristic function for interface $\\Gamma_{ij}$.\n",
    "\n",
    "\n",
    "For $\\mathbf{E}_0:= \\mathbf{E}^s_0 + \\mathbf{E}_0^{inc}$ the (total) electric field in $\\Omega_0$, we introduce $\\mathbf{u}_0 := \\mathbf{u}_0^{s} + \\mathbf{u}_0^{inc}$ with\n",
    "$$\n",
    " \\quad\n",
    "\\mathbf{u}^s_0= \\begin{bmatrix}\n",
    "\\gamma_{D} \\mathbf{E}_0^s \\\\[6pt]\n",
    "\\dfrac{k_0}{\\mu_0} \\gamma_{N} \\mathbf{E}_0^s\n",
    "\\end{bmatrix}, \\quad \\mathbf{u}^{inc}_0= \\begin{bmatrix}\n",
    "\\gamma_{D} \\mathbf{E}_0^{inc} \\\\[6pt]\n",
    "\\dfrac{k_0}{\\mu_0} \\gamma_{N}\\mathbf{E}_0^{inc}\n",
    "\\end{bmatrix}.\n",
    "$$\n",
    "\n",
    "For $i = 0, \\cdots, M$, the scaled Cauchy data read:\n",
    "\\begin{align}\n",
    "\\mathbf{u}_i = \\begin{bmatrix}\n",
    "\\gamma_{D} \\mathbf{E}_i \\\\[6pt]\n",
    "\\dfrac{k_i}{\\mu_i} \\gamma_{N}\\mathbf{E}_i\n",
    "\\end{bmatrix}.\n",
    "\\end{align}\n",
    "\n",
    "Furthermore, we define the scaled multitrace operators s and transfert operators for $i,j = 0,\\cdots , M$:\n",
    "$$\n",
    "\\mathcal{A}_i = \\begin{bmatrix}\n",
    "\\mathcal{C}_i & \\frac{\\mu_i}{k_i} \\mathcal{S}_i\\\\[6pt]\n",
    "- \\frac{k_i}{\\mu_i} \\mathcal{S}_i & \\mathcal{C}_i \\\\\n",
    "\\end{bmatrix},\\quad \\text{and} \\quad \\mathcal{X}_{ij} = \\begin{bmatrix}\n",
    "\\mathcal{I}_{ij} &0\\\\[6pt]\n",
    "0 & \\mathcal{I}_{ij} \\\\\n",
    "\\end{bmatrix},\n",
    "$$\n",
    "and set \n",
    "$$ \\quad\\mathbf{u} : =  \\begin{bmatrix}\\mathbf{u}_0 \\\\ \\mathbf{u}_1\\\\ \\vdots\\\\ \\mathbf{u}_M\\end{bmatrix},\\quad \\mathbf{b} : =\\begin{bmatrix}\\mathbf{u}_0^{inc} \\\\ 0 \\\\ \\vdots \\\\ 0\\end{bmatrix}.$$\n",
    "\n",
    "Finally, \n",
    "$$\n",
    "\\mathcal{A} := \\text{diag}(\\mathcal{A}_i),\\quad \\mathcal{X} := [\\mathcal{X}_{ij}],\n",
    "$$\n",
    "with\n",
    "$$\n",
    "\\mathcal{X}_{ij}= \\chi_{ij}\\mathcal{I}_{ij}.\n",
    "$$\n",
    "The local MTF boundary integral equation reads:\n",
    "$$\n",
    "(2 \\mathcal{A} + \\mathcal{X} ) \\mathbf{u} = -2 \\mathbf{b}.\n",
    "$$\n",
    "\n",
    "\n",
    "We start with the usual imports and enable console logging. We use a precision of $10$ elements per wavelength."
   ]
  },
  {
   "cell_type": "code",
   "execution_count": 1,
   "metadata": {},
   "outputs": [
    {
     "name": "stdout",
     "output_type": "stream",
     "text": [
      "0.15707963267948966 : h\n",
      "40 : precision\n"
     ]
    }
   ],
   "source": [
    "import bempp.api \n",
    "import numpy as np\n",
    "from bempp.api.operators.boundary.sparse import identity\n",
    "from bempp.api.assembly.blocked_operator import BlockedOperator, GeneralizedBlockedOperator\n",
    "\n",
    "\n",
    "bempp.api.enable_console_logging()\n",
    "\n",
    "M = 2\n",
    "k0 = 1\n",
    "mu0 = 1\n",
    "\n",
    "refractivei = [1.5, 1.2]\n",
    "mui = [1., 2.]\n",
    "\n",
    "precision = 40\n",
    "\n",
    "h = 2 * np.pi/(precision*k0)\n",
    "print(h, ': h')\n",
    "print(precision, ': precision')"
   ]
  },
  {
   "cell_type": "code",
   "execution_count": 15,
   "metadata": {},
   "outputs": [
    {
     "name": "stderr",
     "output_type": "stream",
     "text": [
      "bempp:HOST:INFO: Created grid with id 2feaf58f-d383-4073-9006-d819dd4461f4. Elements: 1250. Edges: 1875. Vertices: 627\n"
     ]
    }
   ],
   "source": [
    "grid = bempp.api.shapes.sphere(h=h)\n",
    "segments = [[10], [10]]\n",
    "swapped_normals = [[10], []]\n",
    "#swapped_normals = [[1,2,3,4,5,7,8,9,10,11],{}, [6]]\n",
    "interface = [[10]]"
   ]
  },
  {
   "cell_type": "code",
   "execution_count": 5,
   "metadata": {},
   "outputs": [],
   "source": [
    "k_list = [k0] \n",
    "mu_list = [mu0]\n",
    "for index in range(M-1):\n",
    "  k_list.append(refractivei[index] * k0)\n",
    "  mu_list.append(mui[index])\n",
    "\n",
    "    \n",
    "dA = [bempp.api.function_space(grid, \"RWG\", 0, segments=seg, swapped_normals=normals,\n",
    "                                      include_boundary_dofs=True)\n",
    "              for seg, normals in zip(segments, swapped_normals)]\n",
    "rA = [bempp.api.function_space(grid, \"RWG\", 0, segments=seg, swapped_normals=normals,\n",
    "                                      include_boundary_dofs=True)\n",
    "              for seg, normals in zip(segments, swapped_normals)]\n",
    "tA = [bempp.api.function_space(grid, \"SNC\", 0, segments=seg, swapped_normals=normals,\n",
    "                                      include_boundary_dofs=True)\n",
    "              for seg, normals in zip(segments, swapped_normals)]"
   ]
  },
  {
   "cell_type": "code",
   "execution_count": 6,
   "metadata": {},
   "outputs": [],
   "source": [
    "multitrace_ops = []\n",
    "# > Assemble all diagonal operators\n",
    "for index in range(M):\n",
    "  k = k_list[index]\n",
    "  mu = mu_list[index]\n",
    "  efie = bempp.api.operators.boundary.maxwell.electric_field(dA[index], rA[index], tA[index], k)\n",
    "  mfie = bempp.api.operators.boundary.maxwell.magnetic_field(dA[index], rA[index], tA[index], k)\n",
    "  multitrace_ops.append(bempp.api.GeneralizedBlockedOperator([[mfie, mu/k * efie],[- k/mu * efie, mfie]]))\n",
    "\n",
    "# Define the final operator\n",
    "\n",
    "block_system = [M * [None] for _ in range(M)]\n",
    "\n",
    "for i in range(M):\n",
    "  for j in range(M):\n",
    "    if i == j:\n",
    "      block_system[i][j] = 2 * multitrace_ops[i]\n",
    "    else:\n",
    "      all = segments[i] + segments[j]\n",
    "      non_disjoint = np.unique(all).shape[0] != len(all)\n",
    "      \n",
    "      if non_disjoint:\n",
    "        ident = identity(dA[j], rA[i], tA[i])\n",
    "        op = BlockedOperator(2, 2)\n",
    "        #op[0, 0] = -ident\n",
    "        op[0, 0] = ident\n",
    "        op[1, 1] = ident\n",
    "        op.weak_form()\n",
    "        #op[1, 1] = ident\n",
    "        block_system[i][j] = op\n",
    "      else:\n",
    "        op = BlockedOperator(2, 2)\n",
    "        zero = ZeroBoundaryOperator(dA[j], rA[i], tA[i])\n",
    "        op[0, 0] = zero\n",
    "        op[1, 1] = zero\n",
    "        block_system[i][j] = op\n",
    "\n",
    "block_system = GeneralizedBlockedOperator(block_system)\n"
   ]
  },
  {
   "cell_type": "code",
   "execution_count": 7,
   "metadata": {},
   "outputs": [],
   "source": [
    "\n",
    "def incident_field_z(x):\n",
    "    return np.array([0. * x[0], 0. * x[0], np.exp(1j * k0 * x[0])])\n",
    "\n",
    "\n",
    "@bempp.api.complex_callable\n",
    "def dirichlet_trace_z(x, n, domain_index, result):\n",
    "    incident_field_z = np.array([0. * x[0], 0. * x[0], np.exp(1j * k0 * x[0])])\n",
    "    result[:] = np.cross(incident_field_z, n)\n",
    "\n",
    "\n",
    "@bempp.api.complex_callable\n",
    "def neumann_trace_z(x, n, domain_index, result):\n",
    "    curl_z = np.array([x[0] * 0. ,-1j * k0 * np.exp(1j * k0 * x[0]), x[0] * 0.])\n",
    "#     with objmode():\n",
    "    result[:] = (1/(1j * k0)) * np.cross(curl_z, n)\n",
    "\n",
    "rhs = [ -2 * bempp.api.GridFunction(rA[0], dual_space = tA[0], fun=dirichlet_trace_z),\n",
    "        -2 * k0 / mu0 * bempp.api.GridFunction(rA[0], dual_space = tA[0], fun=neumann_trace_z)]\n",
    "for i in range(1, M):\n",
    "    zero_func = [bempp.api.GridFunction.from_zeros(dA[i]),bempp.api.GridFunction.from_zeros(dA[i])]\n",
    "    rhs = rhs + zero_func\n",
    "\n"
   ]
  },
  {
   "cell_type": "code",
   "execution_count": 8,
   "metadata": {},
   "outputs": [
    {
     "name": "stderr",
     "output_type": "stream",
     "text": [
      "bempp:HOST:INFO: OpenCL CPU Device set to: pthread-AMD EPYC 7302 16-Core Processor\n"
     ]
    },
    {
     "name": "stdout",
     "output_type": "stream",
     "text": [
      "weak_form\n",
      "matrix\n",
      "direct solver\n"
     ]
    },
    {
     "ename": "NameError",
     "evalue": "name 'interface' is not defined",
     "output_type": "error",
     "traceback": [
      "\u001b[0;31m---------------------------------------------------------------------------\u001b[0m",
      "\u001b[0;31mNameError\u001b[0m                                 Traceback (most recent call last)",
      "\u001b[0;32m/tmp/ipykernel_28/33192730.py\u001b[0m in \u001b[0;36m<module>\u001b[0;34m\u001b[0m\n\u001b[1;32m     11\u001b[0m \u001b[0;31m# Results\u001b[0m\u001b[0;34m\u001b[0m\u001b[0;34m\u001b[0m\u001b[0m\n\u001b[1;32m     12\u001b[0m \u001b[0;34m\u001b[0m\u001b[0m\n\u001b[0;32m---> 13\u001b[0;31m \u001b[0minterface_space\u001b[0m \u001b[0;34m=\u001b[0m \u001b[0mbempp\u001b[0m\u001b[0;34m.\u001b[0m\u001b[0mapi\u001b[0m\u001b[0;34m.\u001b[0m\u001b[0mfunction_space\u001b[0m\u001b[0;34m(\u001b[0m\u001b[0mgrid\u001b[0m\u001b[0;34m,\u001b[0m \u001b[0;34m\"RWG\"\u001b[0m\u001b[0;34m,\u001b[0m \u001b[0;36m0\u001b[0m\u001b[0;34m,\u001b[0m \u001b[0msegments\u001b[0m\u001b[0;34m=\u001b[0m\u001b[0minterface\u001b[0m\u001b[0;34m,\u001b[0m \u001b[0minclude_boundary_dofs\u001b[0m \u001b[0;34m=\u001b[0m \u001b[0;32mTrue\u001b[0m\u001b[0;34m)\u001b[0m\u001b[0;34m\u001b[0m\u001b[0;34m\u001b[0m\u001b[0m\n\u001b[0m\u001b[1;32m     14\u001b[0m \u001b[0;34m\u001b[0m\u001b[0m\n\u001b[1;32m     15\u001b[0m \u001b[0mmap_dom0_to_interface\u001b[0m \u001b[0;34m=\u001b[0m \u001b[0midentity\u001b[0m\u001b[0;34m(\u001b[0m\u001b[0msol\u001b[0m\u001b[0;34m[\u001b[0m\u001b[0;36m2\u001b[0m\u001b[0;34m]\u001b[0m\u001b[0;34m.\u001b[0m\u001b[0mspace\u001b[0m\u001b[0;34m,\u001b[0m \u001b[0minterface_space\u001b[0m\u001b[0;34m,\u001b[0m \u001b[0minterface_space\u001b[0m\u001b[0;34m)\u001b[0m\u001b[0;34m\u001b[0m\u001b[0;34m\u001b[0m\u001b[0m\n",
      "\u001b[0;31mNameError\u001b[0m: name 'interface' is not defined"
     ]
    }
   ],
   "source": [
    "print('weak_form')\n",
    "block_system_wf = block_system.weak_form()\n",
    "print('matrix')\n",
    "A = bempp.api.as_matrix(block_system_wf)\n",
    "print('direct solver')\n",
    "b = bempp.api.assembly.blocked_operator.projections_from_grid_functions_list(rhs, block_system.dual_to_range_spaces)\n",
    "x = np.linalg.solve(A, b)\n",
    "sol = bempp.api.assembly.blocked_operator.grid_function_list_from_coefficients(x.ravel(), block_system.domain_spaces)\n"
   ]
  },
  {
   "cell_type": "markdown",
   "metadata": {},
   "source": [
    "We compute the Far-Field pattern:\n",
    "    "
   ]
  },
  {
   "cell_type": "code",
   "execution_count": 13,
   "metadata": {},
   "outputs": [
    {
     "data": {
      "image/png": "[encoded data removed]",
      "text/plain": [
       "<Figure size 432x288 with 1 Axes>"
      ]
     },
     "metadata": {
      "needs_background": "light"
     },
     "output_type": "display_data"
    }
   ],
   "source": [
    "number_of_angles = 3601\n",
    "angles = np.pi * np.linspace(0, 2, number_of_angles)\n",
    "unit_points = np.array([np.cos(angles), np.sin(angles), np.zeros(number_of_angles)])\n",
    "\n",
    "\n",
    "electric_far = bempp.api.operators.far_field.maxwell.electric_field(sol[1].space, unit_points, k0)\n",
    "magnetic_far = bempp.api.operators.far_field.maxwell.magnetic_field(sol[0].space, unit_points, k0)    \n",
    "\n",
    "far_field = - electric_far * sol[1] * mu0 / k0 - magnetic_far * sol[0]\n",
    "\n",
    "from matplotlib import pyplot as plt\n",
    "from mpl_toolkits.axes_grid1 import make_axes_locatable\n",
    "\n",
    "fig = plt.figure()\n",
    "plt.rcParams['figure.figsize'] = (15, 10) # Increase the figure size in the notebook\n",
    "params = {'legend.fontsize': 'x-large', 'axes.labelsize': 'x-large', 'axes.titlesize': 'x-large',\n",
    "         'xtick.labelsize': 'x-large', 'ytick.labelsize': 'x-large'}\n",
    "plt.rcParams.update(params)\n",
    "\n",
    "bistatic_rcs= 10 * np.log10(4 * np.pi * np.sum(np.abs(far_field)**2, axis=0))\n",
    "plt.plot(angles * 180 / np.pi, bistatic_rcs)\n",
    "\n",
    "plt.title(\"Bistatic RCS [dB]\")\n",
    "_ = plt.xlabel('Angle (Degrees)')"
   ]
  },
  {
   "cell_type": "code",
   "execution_count": null,
   "metadata": {},
   "outputs": [],
   "source": []
  }
 ],
 "metadata": {
  "kernelspec": {
   "display_name": "Python 3 (ipykernel)",
   "language": "python",
   "name": "python3"
  },
  "language_info": {
   "codemirror_mode": {
    "name": "ipython",
    "version": 3
   },
   "file_extension": ".py",
   "mimetype": "text/x-python",
   "name": "python",
   "nbconvert_exporter": "python",
   "pygments_lexer": "ipython3",
   "version": "3.9.7"
  }
 },
 "nbformat": 4,
 "nbformat_minor": 4
}
